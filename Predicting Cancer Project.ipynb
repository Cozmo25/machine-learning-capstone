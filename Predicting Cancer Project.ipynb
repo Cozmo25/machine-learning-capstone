{
 "cells": [
  {
   "cell_type": "markdown",
   "metadata": {
    "_cell_guid": "00b7810e-c697-4f88-b4b8-f3a0b8126e83",
    "_uuid": "210f3f3eed65c8b4a56e2d8935cf8b017f23c6f6"
   },
   "source": [
    "**Predict the effect of Genetic Variants to enable Personalized Medicine**"
   ]
  },
  {
   "cell_type": "code",
   "execution_count": 1,
   "metadata": {
    "_cell_guid": "a658cf61-766a-448e-a710-3cc7771bf767",
    "_uuid": "c1ef2767f4f3036d228f4e0d704f58723e388df3"
   },
   "outputs": [
    {
     "name": "stderr",
     "output_type": "stream",
     "text": [
      "Using TensorFlow backend.\n"
     ]
    }
   ],
   "source": [
    "import os\n",
    "import tqdm\n",
    "import string\n",
    "import pandas as pd\n",
    "import numpy as np\n",
    "import nltk\n",
    "import re\n",
    "from random import shuffle\n",
    "from sklearn.preprocessing import LabelEncoder\n",
    "from sklearn.decomposition import TruncatedSVD\n",
    "from sklearn.feature_extraction.text import TfidfVectorizer\n",
    "from keras.wrappers.scikit_learn import KerasClassifier\n",
    "from keras.models import Sequential\n",
    "from keras.layers import Dense, Dropout, LSTM, Embedding, Input, RepeatVector\n",
    "from keras.utils import np_utils\n",
    "from keras.preprocessing import text, sequence\n",
    "from keras.callbacks import TensorBoard\n",
    "from gensim import utils\n",
    "from gensim.models.doc2vec import LabeledSentence\n",
    "from gensim.models import Doc2Vec"
   ]
  },
  {
   "cell_type": "code",
   "execution_count": 2,
   "metadata": {
    "collapsed": true
   },
   "outputs": [],
   "source": [
    "np.random.seed(42)"
   ]
  },
  {
   "cell_type": "markdown",
   "metadata": {
    "_cell_guid": "24612773-7c96-43dc-9685-de76754262dc",
    "_uuid": "9a12d903601694774f1e43df3ccdd649f3ad705c"
   },
   "source": [
    "**Reading Data**\n"
   ]
  },
  {
   "cell_type": "code",
   "execution_count": 3,
   "metadata": {
    "_cell_guid": "7afd455c-cea0-457e-bdda-f9fdca6fc486",
    "_uuid": "23c8e654d88ac46a887769462e929965e1b65ef9",
    "collapsed": true
   },
   "outputs": [],
   "source": [
    "# Read Data\n",
    "train_variant = pd.read_csv(\"training_variants\")\n",
    "test_variant = pd.read_csv(\"test_variants\")\n",
    "train_text = pd.read_csv(\"training_text\", sep=\"\\|\\|\", engine='python', header=None, skiprows=1, names=[\"ID\",\"Text\"])\n",
    "test_text = pd.read_csv(\"test_text\", sep=\"\\|\\|\", engine='python', header=None, skiprows=1, names=[\"ID\",\"Text\"])\n",
    "\n",
    "# Join text and variant data on ID\n",
    "train = pd.merge(train_variant, train_text, how='left', on='ID')\n",
    "\n",
    "# Drop Class labels from training data\n",
    "train_y = train['Class'].values\n",
    "train_x = train.drop('Class', axis=1)\n",
    "\n",
    "#  Check shape of training data\n",
    "train_size = train_x.shape[0]\n",
    "# number of train data : 3321\n",
    "\n",
    "# Join text and variant data on ID\n",
    "test_x = pd.merge(test_variant, test_text, how='left', on='ID')\n",
    "\n",
    "# Check shape and size of test data\n",
    "test_size = test_x.shape[0]\n",
    "test_index = test_x['ID'].values\n",
    "# number of test data : 5668\n",
    "\n",
    "# Join all data for analysis\n",
    "all_data = np.concatenate((train_x, test_x), axis=0)\n",
    "all_data = pd.DataFrame(all_data)\n",
    "all_data.columns = [\"ID\", \"Gene\", \"Variation\", \"Text\"]"
   ]
  },
  {
   "cell_type": "code",
   "execution_count": 4,
   "metadata": {},
   "outputs": [
    {
     "data": {
      "text/html": [
       "<div>\n",
       "<style>\n",
       "    .dataframe thead tr:only-child th {\n",
       "        text-align: right;\n",
       "    }\n",
       "\n",
       "    .dataframe thead th {\n",
       "        text-align: left;\n",
       "    }\n",
       "\n",
       "    .dataframe tbody tr th {\n",
       "        vertical-align: top;\n",
       "    }\n",
       "</style>\n",
       "<table border=\"1\" class=\"dataframe\">\n",
       "  <thead>\n",
       "    <tr style=\"text-align: right;\">\n",
       "      <th></th>\n",
       "      <th>ID</th>\n",
       "      <th>Text</th>\n",
       "    </tr>\n",
       "  </thead>\n",
       "  <tbody>\n",
       "    <tr>\n",
       "      <th>0</th>\n",
       "      <td>0</td>\n",
       "      <td>2. This mutation resulted in a myeloproliferat...</td>\n",
       "    </tr>\n",
       "    <tr>\n",
       "      <th>1</th>\n",
       "      <td>1</td>\n",
       "      <td>Abstract The Large Tumor Suppressor 1 (LATS1)...</td>\n",
       "    </tr>\n",
       "    <tr>\n",
       "      <th>2</th>\n",
       "      <td>2</td>\n",
       "      <td>Vascular endothelial growth factor receptor (V...</td>\n",
       "    </tr>\n",
       "    <tr>\n",
       "      <th>3</th>\n",
       "      <td>3</td>\n",
       "      <td>Inflammatory myofibroblastic tumor (IMT) is a ...</td>\n",
       "    </tr>\n",
       "    <tr>\n",
       "      <th>4</th>\n",
       "      <td>4</td>\n",
       "      <td>Abstract Retinoblastoma is a pediatric retina...</td>\n",
       "    </tr>\n",
       "  </tbody>\n",
       "</table>\n",
       "</div>"
      ],
      "text/plain": [
       "   ID                                               Text\n",
       "0   0  2. This mutation resulted in a myeloproliferat...\n",
       "1   1   Abstract The Large Tumor Suppressor 1 (LATS1)...\n",
       "2   2  Vascular endothelial growth factor receptor (V...\n",
       "3   3  Inflammatory myofibroblastic tumor (IMT) is a ...\n",
       "4   4   Abstract Retinoblastoma is a pediatric retina..."
      ]
     },
     "execution_count": 4,
     "metadata": {},
     "output_type": "execute_result"
    }
   ],
   "source": [
    "test_text.head()"
   ]
  },
  {
   "cell_type": "code",
   "execution_count": 5,
   "metadata": {
    "_cell_guid": "dbefa9e2-cd1a-459a-9892-379a48e7c85f",
    "_uuid": "0a5f48689f9ab723a9dac378d749218934ca9e4e"
   },
   "outputs": [
    {
     "data": {
      "text/html": [
       "<div>\n",
       "<style>\n",
       "    .dataframe thead tr:only-child th {\n",
       "        text-align: right;\n",
       "    }\n",
       "\n",
       "    .dataframe thead th {\n",
       "        text-align: left;\n",
       "    }\n",
       "\n",
       "    .dataframe tbody tr th {\n",
       "        vertical-align: top;\n",
       "    }\n",
       "</style>\n",
       "<table border=\"1\" class=\"dataframe\">\n",
       "  <thead>\n",
       "    <tr style=\"text-align: right;\">\n",
       "      <th></th>\n",
       "      <th>ID</th>\n",
       "      <th>Gene</th>\n",
       "      <th>Variation</th>\n",
       "      <th>Text</th>\n",
       "    </tr>\n",
       "  </thead>\n",
       "  <tbody>\n",
       "    <tr>\n",
       "      <th>0</th>\n",
       "      <td>0</td>\n",
       "      <td>FAM58A</td>\n",
       "      <td>Truncating Mutations</td>\n",
       "      <td>Cyclin-dependent kinases (CDKs) regulate a var...</td>\n",
       "    </tr>\n",
       "    <tr>\n",
       "      <th>1</th>\n",
       "      <td>1</td>\n",
       "      <td>CBL</td>\n",
       "      <td>W802*</td>\n",
       "      <td>Abstract Background  Non-small cell lung canc...</td>\n",
       "    </tr>\n",
       "    <tr>\n",
       "      <th>2</th>\n",
       "      <td>2</td>\n",
       "      <td>CBL</td>\n",
       "      <td>Q249E</td>\n",
       "      <td>Abstract Background  Non-small cell lung canc...</td>\n",
       "    </tr>\n",
       "    <tr>\n",
       "      <th>3</th>\n",
       "      <td>3</td>\n",
       "      <td>CBL</td>\n",
       "      <td>N454D</td>\n",
       "      <td>Recent evidence has demonstrated that acquired...</td>\n",
       "    </tr>\n",
       "    <tr>\n",
       "      <th>4</th>\n",
       "      <td>4</td>\n",
       "      <td>CBL</td>\n",
       "      <td>L399V</td>\n",
       "      <td>Oncogenic mutations in the monomeric Casitas B...</td>\n",
       "    </tr>\n",
       "  </tbody>\n",
       "</table>\n",
       "</div>"
      ],
      "text/plain": [
       "  ID    Gene             Variation  \\\n",
       "0  0  FAM58A  Truncating Mutations   \n",
       "1  1     CBL                 W802*   \n",
       "2  2     CBL                 Q249E   \n",
       "3  3     CBL                 N454D   \n",
       "4  4     CBL                 L399V   \n",
       "\n",
       "                                                Text  \n",
       "0  Cyclin-dependent kinases (CDKs) regulate a var...  \n",
       "1   Abstract Background  Non-small cell lung canc...  \n",
       "2   Abstract Background  Non-small cell lung canc...  \n",
       "3  Recent evidence has demonstrated that acquired...  \n",
       "4  Oncogenic mutations in the monomeric Casitas B...  "
      ]
     },
     "execution_count": 5,
     "metadata": {},
     "output_type": "execute_result"
    }
   ],
   "source": [
    "all_data.head()"
   ]
  },
  {
   "cell_type": "markdown",
   "metadata": {
    "_cell_guid": "e7bc3154-29e9-4961-a900-dfebf18ec593",
    "_uuid": "464cf3d0b5e2cfa455e6eb07587e683f1b91a6d4"
   },
   "source": [
    "**Text Cleaning**"
   ]
  },
  {
   "cell_type": "code",
   "execution_count": 4,
   "metadata": {},
   "outputs": [
    {
     "name": "stdout",
     "output_type": "stream",
     "text": [
      "[nltk_data] Downloading package stopwords to\n",
      "[nltk_data]     /Users/olliegraham/nltk_data...\n",
      "[nltk_data]   Package stopwords is already up-to-date!\n"
     ]
    }
   ],
   "source": [
    "from nltk.corpus import stopwords\n",
    "nltk.download('stopwords')\n",
    "stop = stopwords.words('english')"
   ]
  },
  {
   "cell_type": "code",
   "execution_count": 7,
   "metadata": {},
   "outputs": [
    {
     "name": "stdout",
     "output_type": "stream",
     "text": [
      "['i', 'me', 'my', 'myself', 'we', 'our', 'ours', 'ourselves', 'you', 'your', 'yours', 'yourself', 'yourselves', 'he', 'him', 'his', 'himself', 'she', 'her', 'hers', 'herself', 'it', 'its', 'itself', 'they', 'them', 'their', 'theirs', 'themselves', 'what', 'which', 'who', 'whom', 'this', 'that', 'these', 'those', 'am', 'is', 'are', 'was', 'were', 'be', 'been', 'being', 'have', 'has', 'had', 'having', 'do', 'does', 'did', 'doing', 'a', 'an', 'the', 'and', 'but', 'if', 'or', 'because', 'as', 'until', 'while', 'of', 'at', 'by', 'for', 'with', 'about', 'against', 'between', 'into', 'through', 'during', 'before', 'after', 'above', 'below', 'to', 'from', 'up', 'down', 'in', 'out', 'on', 'off', 'over', 'under', 'again', 'further', 'then', 'once', 'here', 'there', 'when', 'where', 'why', 'how', 'all', 'any', 'both', 'each', 'few', 'more', 'most', 'other', 'some', 'such', 'no', 'nor', 'not', 'only', 'own', 'same', 'so', 'than', 'too', 'very', 's', 't', 'can', 'will', 'just', 'don', 'should', 'now', 'd', 'll', 'm', 'o', 're', 've', 'y', 'ain', 'aren', 'couldn', 'didn', 'doesn', 'hadn', 'hasn', 'haven', 'isn', 'ma', 'mightn', 'mustn', 'needn', 'shan', 'shouldn', 'wasn', 'weren', 'won', 'wouldn']\n"
     ]
    }
   ],
   "source": [
    "print(stop)"
   ]
  },
  {
   "cell_type": "code",
   "execution_count": 8,
   "metadata": {
    "collapsed": true
   },
   "outputs": [],
   "source": [
    "common_stop = [\"fig\", \"figure\", \"et\", \"al\", \"al.\", \"also\",\n",
    "                \"data\", \"analyze\", \"study\", \"table\", \"using\",\n",
    "                \"method\", \"result\", \"conclusion\", \"author\", \n",
    "                \"find\", \"found\", \"show\"]"
   ]
  },
  {
   "cell_type": "code",
   "execution_count": 5,
   "metadata": {
    "_cell_guid": "f4bce926-6de3-41f4-a8ee-6ddd76df7c28",
    "_uuid": "4f4f4a2b2edc02743e2167f1907844507089cd15",
    "collapsed": true
   },
   "outputs": [],
   "source": [
    "# Define text pre-processing funtions\n",
    "\n",
    "# Constructs a labelled list of sentences from a text corpus\n",
    "def constructLabeledSentences(data):\n",
    "    sentences=[]\n",
    "    for index, row in data.iteritems():\n",
    "        sentences.append(LabeledSentence(utils.to_unicode(row).split(), ['Text' + '_%s' % str(index)]))\n",
    "    return sentences\n",
    "\n",
    "# Converts text to lower case and removes punctuation\n",
    "def cleanup(text):\n",
    "    text = text.lower()\n",
    "    text = text.translate(str.maketrans(\"\",\"\", string.punctuation))\n",
    "    return text\n",
    "\n",
    "# Removes punctuations, converts text to lower case, splits words into tokens, removes stopwords and digits from text\n",
    "def textClean(text):\n",
    "    text = re.sub(r\"[^A-Za-z0-9^,!.\\/'+-=]\", \" \", text)\n",
    "    text = text.lower().split()\n",
    "    stops = set(stopwords.words(\"english\"))\n",
    "    text = [w for w in text if not w in stops and not w.isdigit()]    \n",
    "    text = \" \".join(text)\n",
    "    return(text)\n"
   ]
  },
  {
   "cell_type": "code",
   "execution_count": 10,
   "metadata": {},
   "outputs": [
    {
     "name": "stdout",
     "output_type": "stream",
     "text": [
      "CPU times: user 54.5 s, sys: 4.45 s, total: 59 s\n",
      "Wall time: 1min 11s\n"
     ]
    }
   ],
   "source": [
    "%%time\n",
    "\n",
    "all_data['Txt'] = all_data.Text.apply(cleanup)"
   ]
  },
  {
   "cell_type": "code",
   "execution_count": 6,
   "metadata": {},
   "outputs": [
    {
     "name": "stdout",
     "output_type": "stream",
     "text": [
      "CPU times: user 45 s, sys: 1.24 s, total: 46.2 s\n",
      "Wall time: 46.7 s\n"
     ]
    }
   ],
   "source": [
    "%%time\n",
    "\n",
    "all_data['TxtNS'] = all_data.Text.apply(textClean)"
   ]
  },
  {
   "cell_type": "code",
   "execution_count": 7,
   "metadata": {
    "collapsed": true
   },
   "outputs": [],
   "source": [
    "allTextNS = all_data['TxtNS'].apply(cleanup)"
   ]
  },
  {
   "cell_type": "code",
   "execution_count": 11,
   "metadata": {
    "collapsed": true
   },
   "outputs": [],
   "source": [
    "allText = all_data['Txt']"
   ]
  },
  {
   "cell_type": "code",
   "execution_count": 14,
   "metadata": {
    "collapsed": true
   },
   "outputs": [],
   "source": [
    "allTextNS = all_data['TxtNS']"
   ]
  },
  {
   "cell_type": "code",
   "execution_count": 15,
   "metadata": {
    "collapsed": true
   },
   "outputs": [],
   "source": [
    "sentences = constructLabeledSentences(allText)"
   ]
  },
  {
   "cell_type": "code",
   "execution_count": 9,
   "metadata": {
    "collapsed": true
   },
   "outputs": [],
   "source": [
    "sentences2 = constructLabeledSentences(allTextNS)"
   ]
  },
  {
   "cell_type": "code",
   "execution_count": 8,
   "metadata": {},
   "outputs": [
    {
     "name": "stdout",
     "output_type": "stream",
     "text": [
      "cyclindependent kinases cdks regulate variety fundamental cellular processes cdk10 stands one last orphan cdks activating cyclin identified kinase activity revealed previous work shown cdk10 silencing increases ets2 vets erythroblastosis virus e26 oncogene homolog driven activation mapk pathway confers tamoxifen resistance breast cancer cells precise mechanisms cdk10 modulates ets2 activity generally functions cdk10 remain elusive demonstrate cdk10 cyclindependent kinase identifying cyclin activating cyclin cyclin m orphan cyclin product fam58a whose mutations cause star syndrome human developmental anomaly whose features include toe syndactyly telecanthus anogenital renal malformations show star syndromeassociated cyclin mutants unable interact cdk10 cyclin silencing phenocopies cdk10 silencing increasing craf conferring tamoxifen resistance breast cancer cells cdk10cyclin phosphorylates ets2 vitro cells positively controls ets2 degradation proteasome ets2 protein levels increased cells derived star patient increase attributable decreased cyclin levels altogether results reveal additional regulatory mechanism ets2 plays key roles cancer development also shed light molecular mechanisms underlying star syndromecyclindependent kinases cdks play pivotal role control number fundamental cellular processes  human genome contains genes encoding proteins considered members cdk family owing sequence similarity bona fide cdks known activated cyclins  although discovered almost ago 3  cdk10 remains one two cdks without identified cyclin partner knowledge gap largely impeded exploration biological functions cdk10 act positive cell cycle regulator cells 5 tumor suppressor others 7  cdk10 interacts ets2 vets erythroblastosis virus e26 oncogene homolog transcription factor inhibits transcriptional activity unknown mechanism  cdk10 knockdown derepresses ets2 increases expression craf protein kinase activates mapk pathway induces resistance mcf7 cells tamoxifen here deorphanize cdk10 identifying cyclin m product fam58a binding partner mutations gene predict absence truncation cyclin associated star syndrome whose features include toe syndactyly telecanthus anogenital renal malformations heterozygous females  however functions cyclin pathogenesis star syndrome remain unknown show recombinant cdk10cyclin heterodimer active protein kinase phosphorylates ets2 vitro cyclin silencing phenocopies cdk10 silencing increasing craf phosphoerk expression levels inducing tamoxifen resistance estrogen receptor er  breast cancer cells show cdk10cyclin positively controls ets2 degradation proteasome phosphorylation two neighboring serines finally detect increased ets2 expression level cells derived star patient demonstrate attributable decreased cyclin expression level observed cellsprevious sectionnext sectionresultsa yeast twohybrid y2h screen unveiled interaction signal cdk10 mouse protein whose cterminal half presents strong sequence homology human fam58a gene product whose proposed name cyclin  thus performed y2h mating assays determine whether human cdk10 interacts human cyclin fig c  longest cdk10 isoform p1 expressed bait protein produced strong interaction phenotype fulllength cyclin expressed prey protein detectable phenotype cyclin d1 p21 cip1  cdi1 kap  known binding partners cdks fig 1b  cdk1 cdk3 also produced y2h signals cyclin m albeit notably weaker observed cdk10 fig 1b  interaction phenotype also observed fulllength cyclin cdk10 proteins expressed bait prey respectively fig s1a  tested different isoforms cdk10 cyclin originating alternative gene splicing two truncated cyclin proteins corresponding hypothetical products two mutated fam58a genes found star syndrome patients  none shorter isoforms produced interaction phenotypes fig c fig s1a fig 1in new window download pptfig 1cdk10 cyclin form interaction complex schematic representation different protein isoforms analyzed y2h assays amino acid numbers indicated black boxes indicate internal deletions red box indicates differing amino acid sequence compared cdk10 p1 b y2h assay set cdk proteins expressed baits fusion lexa dna binding domain cdk interacting proteins expressed preys fusion b42 transcriptional activator  peg202 pjg45 empty bait prey plasmids expressing lexa b42 respectively lacz used reporter gene blue yeast indicative y2h interaction phenotype c y2h assay different cdk10 cyclin isoforms aminoterminal region ets2 known interact cdk10  also assayed western blot analysis myccdk10 wt kd cycmv56his expression levels transfected hek293 cells e western blot analysis myccdk10 wt kd immunoprecipitates obtained using antimyc antibody inputs correspond g total lysates obtained hek293 cells coexpressing myccdk10 wt kd cycmv56his f western blot analysis immunoprecipitates obtained using anticdk10 antibody control goat antibody human breast cancer mcf7 cells input corresponds g mcf7 total cell lysates lower band doublet observed upper panel comigrates exogenously expressed untagged cdk10 thus corresponds endogenous cdk10 upper band doublet corresponds nonspecific signal demonstrated insensitivity either overexpression cdk10 seen left lane silencing cdk10 fig s2b  another experiment longer gel migration shown fig s1dnext examined ability cdk10 cyclin interact expressed human cells fig e  tested wildtype cdk10 wt kinase dead kd mutant bearing d181a amino acid substitution abolishes atp binding  expressed cyclin mv56his andor myccdk10 wt kd human embryonic kidney cell line hek293  expression level cyclin mv56his significantly increased upon coexpression myccdk10 wt kd and lesser extent myccdk10 wt kd increased upon coexpression cyclin mv56his fig 1d  immunoprecipitated myccdk10 proteins detected presence cyclin cdk10 wt kd immunoprecipitates proteins coexpressed pairwise fig 1e  confirmed observations detecting presence myccdk10 cyclin mv56his immunoprecipitates fig s1b  experiments confirmed lack robust interaction cdk10p2 isoform cyclin fig s1c  detect interaction endogenous proteins performed immunoprecipitations nontransfected mcf7 cells derived human breast cancer cdk10 cyclin antibodies detected cognate endogenous proteins western blotting readily detected cyclin immunoprecipitates obtained cdk10 antibody control antibody fig 1f  results confirm physical interaction cdk10 cyclin human cellsto unveil hypothesized cdk10cyclin protein kinase activity produced gstcdk10 strepiicyclin fusion proteins insect cells either individually combination observed gstcdk10 strepiicyclin copurified thus confirming interaction yet another cellular model fig 2a  performed vitro kinase assays purified proteins using histone h1 generic substrate histone h1 phosphorylation detected lysates cells coexpressing gstcdk10 strepiicyclin m phosphorylation detected gstcdk10 strepiicyclin expressed alone strepiicyclin coexpressed gstcdk10 kd fig 2a  next investigated whether ets2 known interact cdk10 fig 1c  phosphorylation substrate cdk10cyclin m detected strong phosphorylation ets2 gstcdk10strepiicyclin purified heterodimer whereas phosphorylation detected using gstcdk10 alone gstcdk10 kd strepiicyclin heterodimer fig 2b fig 2in new window download pptfig 2cdk10 cyclin mdependent protein kinase vitro protein kinase assay histone h1 lysates insect cells expressing different proteins purified glutathione sepharose matrix capture gstcdk10 wt kd fusion proteins alone complex strcycm fusion protein purified protein expression levels analyzed western blots top upper middle  kinase activity determined autoradiography histone h1 whose added amounts visualized coomassie staining lower middle bottom  b a using purified recombinant 6hisets2 substratecdk10 silencing shown increase ets2driven craf transcription activate mapk pathway  investigated whether cyclin also involved regulatory pathway aim highly specific silencing used sirna pools mix four different sirnas low final concentration nm  cdk10 cyclin sirna pools silenced expression cognate targets fig c fig s2 and interestingly cyclin sirna pool also caused marked decrease cdk10 protein level fig 3a fig s2b  results shown fig 1d suggest cyclin binding stabilizes cdk10 cyclin silencing induced increase craf protein mrna levels fig b c phosphorylated erk1 erk2 protein levels fig s3b  similarly cdk10 silencing expected effects  cdk10 cyclin silencing decreased sensitivity er mcf7 cells tamoxifen similar extent combined silencing genes result higher resistance drug fig s3c  altogether observations demonstrate functional interaction cyclin cdk10 negatively controls ets2fig 3in new window download pptfig 3cyclin silencing upregulates craf expression western blot analysis endogenous cdk10 cyclin expression levels mcf7 cells response sirnamediated gene silencing b western blot analysis endogenous craf expression levels mcf7 cells response cdk10 cyclin silencing quantification shown fig s3a c quantitative rtpcr analysis cdk10 cyclin m craf mrna levels response cdk10 upper cyclin lower silencing p 001 p 0001we wished explore mechanism cdk10cyclin controls ets2 ets2 shortlived protein degraded proteasome  straightforward hypothesis cdk10cyclin positively controls ets2 degradation thus examined impact cdk10 cyclin silencing ets2 expression levels silencing cdk10 cyclin caused increase expression levels exogenously expressed flagets2 protein fig s4a  well endogenous ets2 protein fig 4a  increase attributable increased ets2 mrna levels marginally fluctuated response cdk10 cyclin silencing fig s4b  examined expression levels flagtagged ets2 protein expressed alone combination myccdk10 cdk10 kd  without cyclin mv56his flagets2 readily detected expressed alone or lesser extent coexpressed cdk10 kd  however expression level dramatically decreased coexpressed cdk10 alone cdk10 cyclin fig 4b  observations suggest endogenous cyclin levels excess compared cdk10 mcf7 cells show major decrease ets2 levels observed upon cdk10 coexpression involves cdk10 kinase activity treatment cells coexpressing flagets2 cdk10 cyclin proteasome inhibitor mg132 largely rescued flagets2 expression levels fig 4b fig 4in new window download pptfig 4cdk10cyclin controls ets2 stability human cancer derived cells western blot analysis endogenous ets2 expression levels mcf7 cells response sirnamediated cdk10 andor cyclin silencing quantification shown fig s4b b western blot analysis exogenously expressed flagets2 protein levels mcf7 cells cotransfected empty vectors coexpressing myccdk10 wt kd  myccdk10cycmv56his latter cells treated h mg132 proteasome inhibitor proper expression cdk10 cyclin tagged proteins verified western blot analysis c western blot analysis expression levels exogenously expressed flagets2 wildtype mutant proteins mcf7 cells absence c response myccdk10cycmv56his expression quantifications shown fig s4 c da mass spectrometry analysis recombinant ets2 phosphorylated cdk10cyclin vitro revealed existence multiple phosphorylated residues among two neighboring phosphoserines positions may form phosphodegron figs s5 s8  confirm finding compared phosphorylation level recombinant ets2wt ets2sasa protein mutant bearing alanine substitutions two serines expected existence multiple phosphorylation sites detected small reproducible significant decrease phosphorylation level ets2sasa compared ets2wt fig s9  thus confirming ser220ser225 phosphorylated cdk10cyclin m establish direct link ets2 phosphorylation cdk10cyclin degradation examined expression levels flagets2sasa absence cdk10cyclin coexpression differ significantly flagets2 contrary flagets2dbm bearing deletion nterminal destruction d box previously shown involved apccdh1 mediated degradation ets2 fig 4c  however contrary flagets2 wild type expression level flagets2sasa remained insensitive cdk10cyclin coexpression fig 4d  altogether results suggest cdk10cyclin directly controls ets2 degradation phosphorylation two serinesfinally studied lymphoblastoid cell line derived patient star syndrome bearing fam58a mutation c5551g a predicted result aberrant splicing  accordance incomplete skewing x chromosome inactivation previously found patient detected decreased expression level cyclin protein star cell line compared control lymphoblastoid cell line line preceding observations detected increased expression level ets2 protein star cell line compared control fig 5a fig s10a  examined quantitative rtpcr mrna expression levels corresponding genes star cell line showed decreased expression level cyclin mrna expression level ets2 mrna similar control cell line fig 5b  demonstrate increase ets2 protein expression indeed result decreased cyclin expression observed star patientderived cell line expressed cyclin mv56his cell line expression caused decrease ets2 protein levels fig 5c fig 5in new window download pptfig 5decreased cyclin expression star patientderived cells results increased ets2 protein level western blot analysis cyclin ets2 protein levels star patientderived lymphoblastoid cell line control lymphoblastoid cell line derived healthy individual quantification shown fig s10a b quantitative rtpcr analysis cyclin ets2 mrna levels cells p 0001 c western blot analysis ets2 protein levels star patientderived lymphoblastoid cell line transfected empty vector vector directing expression cyclin mv56his another western blot revealing endogenously exogenously expressed cyclin levels shown fig s10b quantification ets2 protein levels shown fig s10cprevious sectionnext sectiondiscussionin work unveil interaction cdk10 last orphan cdk discovered pregenomic era  cyclin m cyclin associated human genetic disease far whose functions remain unknown  closest paralogs cdk10 within cdk family cdk11 proteins interact ltype cyclins  interestingly closest paralog cyclins within cyclin family cyclin fig s11  fact none shorter cdk10 isoforms interact robustly cyclin suggests alternative splicing cdk10 gene 16 plays important role regulating cdk10 functionsthe functional relevance interaction cdk10 cyclin supported different observations proteins seem enhance stability judged increased expression levels partner exogenously coexpressed fig 1d much reduced endogenous cdk10 expression level observed response cyclin silencing fig 3a fig s2b  cdk10 subject ubiquitinmediated degradation  observations suggest cyclin protects cdk10 degradation cyclin partner cdk10 least mcf7 cells also suggest cyclin stability enhanced upon binding cdk10 independently kinase activity seen cyclin c cdk8  uncover cyclin mdependent cdk10 protein kinase activity vitro thus demonstrating protein named cdk sole basis amino acid sequence indeed genuine cyclindependent kinase y2h assays reveal truncated cyclin proteins corresponding hypothetical products two star syndromeassociated fam58a mutations produce interaction phenotype cdk10 hence regardless whether mutated mrnas undergo nonsensemediated decay suggested decreased cyclin mrna levels star cells shown fig 5b give rise truncated cyclin proteins females affected star syndrome must exhibit compromised cdk10cyclin kinase activity least tissues specific developmental stageswe show ets2 known interactor cdk10 phosphorylation substrate cdk10cyclin vitro cdk10cyclin kinase activity positively controls ets2 degradation proteasome control seems exerted fine mechanism judged sensitivity ets2 levels partially decreased cdk10 cyclin levels achieved mcf7 cells observed star cells respectively findings offer straightforward explanation already reported upregulation ets2driven transcription craf response cdk10 silencing  bring evidence cdk10cyclin directly controls ets2 degradation phosphorylation two neighboring serines may form noncanonical trcp phosphodegron dsmcpas  none two serines precede proline conform usual cdk phosphorylation sites however multiple socalled transcriptional cdks cdk7 8 9 11 cdk10 may belong fig s11 shown phosphorylate variety motifs non prolinedirected fashion especially context molecular docking substrate  here hypothesized highaffinity interaction cdk10 pointed domain ets2 6 fig 1c would allow dockingmediated phosphorylation atypical sites control ets2 degradation involves number players including apccdh1 cullinring ligase crl4  formal identification ubiquitin ligase involved cdk10cyclin pathway elucidation concerted action ubiquitin ligases regulate ets2 degradation require studiesour results present number significant biological medical implications first shed light regulation ets2 plays important role development frequently deregulated many cancers  second results contribute understanding molecular mechanisms causing tamoxifen resistance associated reduced cdk10 expression levels suggest that like cdk10  cyclin could also predictive clinical marker hormone therapy response er positive breast cancer patients third findings offer interesting hypothesis molecular mechanisms underlying star syndrome ets2 transgenic mice showing less twofold overexpression ets2 present severe cranial abnormalities  observed star patients could thus caused least part increased ets2 protein levels another expected consequence enhanced ets2 expression levels would decreased risk develop certain types cancers increased risk develop others studies various mouse models including models syndrome three copies ets2 exist revealed ets2 dosage repress promote tumor growth and hence ets2 exerts noncell autonomous functions cancer  intringuingly one star patients identified far diagnosed nephroblastoma  finally findings facilitate general exploration biological functions cdk10 and particular role control cell division previous studies suggested either positive role cell cycle control 5 tumorsuppressive activity cancers 7  severe growth retardation exhibited star patients strongly suggests cdk10cyclin plays important role control cell proliferationprevious sectionnext sectionmaterials methodscloning cdk10 cyclin cdnas plasmid constructions tamoxifen response analysis quantitative rtpcr mass spectrometry experiments antibody production detailed si materials methodsyeast twohybrid interaction assays performed yeast interaction mating assays previously described mammalian cell cultures transfections grew human hek293 mcf7 cells dmem supplemented volvol fbs invitrogen  grew lymphoblastoid cells rpmi glutamax supplemented volvol fbs transfected hek293 mcf7 cells using lipofectamine invitrogen plasmids lipofectamine rnaimax invitrogen sirnas jetprime polyplus plasmidssirnas combinations according manufacturers instructions transfected lymphoblastoid cells electroporation neon invitrogen  ets2 stability studies treated mcf7 cells h transfection mg132 fisher scientific hcoimmunoprecipitation western blot experiments collected cells scraping pbs centrifugation lymphoblastoid cells lysed sonication lysis buffer containing mm glycerophosphate mm pnitrophenylphosphate mm 3 nmorpholino propanesulfonic acid mops ph 72  mm egta mm mgcl2 mm na vanadate mm naf 1mm phenylphosphate 01 nonidet p40 protease inhibitor mixture roche  spun lysates min 20000 g c collected supernatants determined protein content using bradford assay performed immunoprecipitation experiments g total proteins lysis buffer precleared lysates l protein gagarose beads incubated h c rotating wheel added g antibody supernatants incubated h c rotating wheel added l protein gagarose beads incubated h c rotating wheel collected beads centrifugation 18000 g c washed three times bead buffer containing mm tris ph 74  mm naf mm nacl mm edta mm egta 01 nonidet p40 protease inhibitor coktail roche  directly added sample buffer washed pellets heatdenatured proteins ran samples bistris sdspage transferred proteins onto hybond nitrocellulose membranes processed blots according standard procedures western blot experiments used following primary antibodies antimyc abcam ab9106 12000  antiv5 invitrogen r960 15000  antitubulin santa cruz biotechnology b7 1500  anticdk10 covalab pab0847p 1500 santa cruz biotechnology c19 1500  anticycm homemade dilution 1500 covalab pab0882p dilution 1500  antiraf1 santa cruz biotechnology c20 11000  antiets2 santa cruz biotechnology c20 11000  antiflag sigma f7425 11000  antiactin sigma a5060 15000  used hrpcoupled antigoat santa cruz biotechnology sc2033 dilution 12000  antimouse biorad 6516 dilution 13000 antirabbit biorad 1019 15000 secondary antibodies revealed blots enhanced chemiluminescence supersignal west femto thermo scientific production purification recombinant proteinsgstcdk10 kd strepiicycm generated recombinant bacmids dh10bac escherichia coli baculoviruses sf9 cells using bactobac system described provider invitrogen  infected sf9 cells gstcdk10 gstcdk10kd producing viruses coinfected cells strepiicycm producing viruses collected cells h infection purify gstfusion proteins spun ml cells resuspended pellet ml lysis buffer pbs mm nacl 05 nonidet p40 mm naf mm glycerophosphate 03 mm navanadate containing protease inhibitor mixture roche  lysed cells sonication spun lysate min 15000 g collected soluble fraction added 1ml glutathionesepharose matrix incubated h c washed four times lysis buffer one time kinase buffer see  finally resuspended beads l kinase buffer containing volvol glycerol storage6hisets2 transformed origami2 de3 novagen 6hisets2 expression vector induced expression 02 mm isopropyl d1thiogalactopyranoside h c purify 6hisets2 spun ml cells resuspended pellet ml lysis buffer pbs mm nacl mm imidazole mm dtt 01 nonidet p40 containing protease inhibitor mixture without edta roche  lysed cells 16 bar using cell disruptor spun lysate min 20000 g collected soluble fraction added l cobalt beads thermo scientific  h incubation c rotating wheel washed four times lysis buffer elute incubated beads min elution buffer pbs mm imidazole ph 76 containing protease inhibitor mixture spun 10000 g collected eluted proteinprotein kinase assays mixed glutathionesepharose beads harboring gstcdk10 wt kd either monomeric complexed strepiicycm  227 bsa mm dtt atp ci atp 32p  775 histone h1 6hisets2 added kinase buffer mm tris hcl mm mgcl2 mm egta mm dtt 37 heparin ph 75 total volume l incubated reactions min c added laemli sample buffer heatdenatured samples ran bistris sdspage cut gel slices detect gstcdk10 strepiicycm western blotting stained gel slices containing substrate coomassie r250 biorad  dried them detected incorporated radioactivity autoradiography identified four unrelated girls anogenital renal malformations dysmorphic facial features normal intellect syndactyly toes similar combination features reported previously mother daughter pair1 table supplementary note online  authors noted clinical overlap townesbrocks syndrome suggested phenotype represented separate autosomal dominant entity mim601446  define cardinal features syndrome characteristic facial appearance apparent telecanthus broad tripartite nasal tip variable syndactyly toes 5 hypoplastic labia anal atresia urogenital malformations fig 1a h  also observed variety features table  figure 1 clinical molecular characterization star syndrome figure  clinical molecular characterization star syndrome f facial appearances cases apparent telecanthus dysplastic ears thin upper lips ace  toe syndactyly 5 bdf cases illustrate recognizable features star syndrome specific parental consent obtained publication photographs  anal atresia hypoplastic labia shown gh xray films feet case showing four rays left deltashaped 4th 5th metatarsals right h compare clinical picture  arraycgh data log2 ratio represents copy number loss six probes spanning 379 507 kb one probe positioned within fam58a deletion remove parts functional genes j schematic structure fam58a position mutations fam58a five coding exons boxes  cyclin domain green encoded exons 4 horizontal arrow indicates deletion extending 5 case 1 includes exons 2 whereas horizontal line exon indicates deletion found case 3 removes exon 3 sequence pink horizontal bars boxes indicate amplicons used qpcr sequencing one alternative exon amplicon indicated space constraints  mutation 201dupt case results immediate stop codon 5551g 5551g splice mutations cases 2 predicted deleterious alter conserved splice donor acceptor site intron 4 respectively full size image kb table 1 clinical features star syndrome cases table  clinical features star syndrome cases full table basis phenotypic overlap townesbrocks okihiro feingold syndromes analyzed sall1 ref  sall4 ref mycn4 found mutations genes supplementary methods online  next carried genomewide highresolution oligonucleotide array comparative genomic hybridization cgh analysis supplementary methods genomic dna severely affected individual case 1 lower lid coloboma epilepsy syringomyelia identified heterozygous deletion 379 507 kb xq28 removed exons fam58a fig 1ij  using realtime pcr confirmed deletion child excluded unaffected parents supplementary fig 1a online supplementary methods supplementary table online  cgh customized oligonucleotide array enriched probes xq28 followed breakpoint cloning defined exact deletion size 40068 bp g152514164 152554231del chromosome x ncbi build 362  fig 1j supplementary figs 23 online  deletion removes coding regions exons well intron 2774 bp  bp intron 2 36608 bp 5 sequence including 5 utr entire krt18p48 pseudogene ncbi gene id  paternity proven using routine methods find deletions overlapping fam58a available copy number variation cnv databases subsequently carried qpcr analysis three affected individuals cases 2 motherdaughter pair literature cases  case 3 detected de novo heterozygous deletion 11 103 kb overlapping exon supplementary fig 1b online  using xq28targeted array cgh breakpoint cloning identified deletion 4249 bp g152504123 152508371del chromosome x ncbi build 362  fig 1j supplementary figs 23  removed 1265 bp intron 4 exon 5 including 3 utr 2454 bp 3 sequence found heterozygous fam58a point mutations remaining cases fig 1j supplementary fig 2 supplementary methods supplementary table  case 2 identified mutation 5551g a affecting splice donor site intron 4 case 4 identified frameshift mutation 201dupt immediately results premature stop codon n68xfsx1 cases 6 detected mutation 5561g a alters splice acceptor site intron 4 validated point mutations deletions independent rounds pcr sequencing qpcr confirmed paternity de novo status point mutations deletions sporadic cases none mutations seen dna unaffected female controls larger deletions involving fam58a found unrelated arraycgh investigations analyzing xchromosome inactivation supplementary methods supplementary fig online  found complete skewing x inactivation cases almost complete skewing case 2 suggesting cells carrying mutation active x chromosome growth disadvantage fetal development using rtpcr rna lymphoblastoid cells case supplementary fig  find aberrant splice products additional evidence mutated allele inactivated furthermore fam58a subjected x inactivation6 cases 3 parental origin deletions could determined result lack informative snps case 5 mother case 6 gave birth two boys clinically unaffected samples available  cannot exclude condition lethal males fetal losses reported families function fam58a unknown gene consists five coding exons 642bp coding region encodes protein amino acids genbank lists mrna length 1257 bp reference sequence nm 1522742  expression gene est data found adult tissues including kidney colon cervix uterus heart ncbi expression viewer unigene hs496943  expression also noted listed tumor tissues well embryo fetus genes homologous fam58a ncbi homologene found x chromosome chimpanzee dog zebrafish similar gene chromosome 23 however mouse rat true homologs species similar intronless genes chromosomes mouse rat  likely arising retrotransposon insertion event murine x chromosome flanking genes atp2b3 dusp9 conserved remnants fam58a sequence detected fam58a contains cyclinboxfold domain proteinbinding domain found cyclins role cell cycle transcription control human phenotype resulting cyclin gene mutation yet reported homozygous knockout mice ccnd1 encoding cyclin d1 viable small reduced lifespan also dystrophic changes retina likely result decreased cell proliferation degeneration photoreceptor cells embryogenesis7 8 cyclin d1 colocalizes sall4 nucleus proteins cooperatively mediate transcriptional repression9 phenotype cases overlaps considerably townesbrocks syndrome caused sall1 mutations1 carried coimmunoprecipitation find sall1 sall4 would interact fam58a manner similar observed sall4 cyclin d1 found fam58a interacts sall1 sall4 supplementary fig online  supporting hypothesis fam58a sall1 participate developmental pathway fam58a mutations lead star syndrome growth retardation cases table retinal abnormalities three cases reminiscent reduced body size retinal anomalies cyclin d1 knockout mice7 8 therefore proliferation defect might partly responsible star syndrome address question carried knockdown fam58a mrna followed proliferation assay transfection hek293 cells three different fam58aspecific rnai oligonucleotides resulted significant reduction fam58a mrna expression proliferation transfected cells supplementary methods supplementary fig online  supporting link fam58a cell proliferation found lossoffunction mutations fam58a result rather homogeneous clinical phenotype additional anomalies case likely result effect 40kb deletion expression neighboring gene possibly atp2b3 dusp9 however cannot exclude homogeneous phenotype results ascertainment bias fam58a mutations including missense changes could result broader spectrum malformations genes causing overlapping phenotypes star syndrome townesbrocks syndrome seem act pathway note mycn gene mutated feingold syndrome direct regulator cyclin d2 refs 1011  thus worth exploring whether phenotypic similarities feingold star syndrome might explained direct regulation fam58a mycn fam58a located approximately 056 mb centromeric mecp2 xq28 duplications overlapping mecp2 fam58a described associated clinical phenotype females12 deletions overlapping mecp2 fam58a observed date13 although genes fam58a mecp2 implicated brain development fam58a mecp2 genes region known result xlinked dominant phenotypes thus deletion genes allele might lethal males females\n"
     ]
    }
   ],
   "source": [
    "print(allTextNS[0])"
   ]
  },
  {
   "cell_type": "code",
   "execution_count": 60,
   "metadata": {},
   "outputs": [
    {
     "name": "stdout",
     "output_type": "stream",
     "text": [
      "LabeledSentence(['cyclindependent', 'kinases', 'cdks', 'regulate', 'variety', 'fundamental', 'cellular', 'processes', 'cdk10', 'stands', 'one', 'last', 'orphan', 'cdks', 'activating', 'cyclin', 'identified', 'kinase', 'activity', 'revealed', 'previous', 'work', 'shown', 'cdk10', 'silencing', 'increases', 'ets2', 'vets', 'erythroblastosis', 'virus', 'e26', 'oncogene', 'homolog', 'driven', 'activation', 'mapk', 'pathway', 'confers', 'tamoxifen', 'resistance', 'breast', 'cancer', 'cells', 'precise', 'mechanisms', 'cdk10', 'modulates', 'ets2', 'activity', 'generally', 'functions', 'cdk10', 'remain', 'elusive', 'demonstrate', 'cdk10', 'cyclindependent', 'kinase', 'identifying', 'cyclin', 'activating', 'cyclin', 'cyclin', 'm', 'orphan', 'cyclin', 'product', 'fam58a', 'whose', 'mutations', 'cause', 'star', 'syndrome', 'human', 'developmental', 'anomaly', 'whose', 'features', 'include', 'toe', 'syndactyly', 'telecanthus', 'anogenital', 'renal', 'malformations', 'show', 'star', 'syndromeassociated', 'cyclin', 'mutants', 'unable', 'interact', 'cdk10', 'cyclin', 'silencing', 'phenocopies', 'cdk10', 'silencing', 'increasing', 'craf', 'conferring', 'tamoxifen', 'resistance', 'breast', 'cancer', 'cells', 'cdk10cyclin', 'phosphorylates', 'ets2', 'vitro', 'cells', 'positively', 'controls', 'ets2', 'degradation', 'proteasome', 'ets2', 'protein', 'levels', 'increased', 'cells', 'derived', 'star', 'patient', 'increase', 'attributable', 'decreased', 'cyclin', 'levels', 'altogether', 'results', 'reveal', 'additional', 'regulatory', 'mechanism', 'ets2', 'plays', 'key', 'roles', 'cancer', 'development', 'also', 'shed', 'light', 'molecular', 'mechanisms', 'underlying', 'star', 'syndromecyclindependent', 'kinases', 'cdks', 'play', 'pivotal', 'role', 'control', 'number', 'fundamental', 'cellular', 'processes', 'human', 'genome', 'contains', 'genes', 'encoding', 'proteins', 'considered', 'members', 'cdk', 'family', 'owing', 'sequence', 'similarity', 'bona', 'fide', 'cdks', 'known', 'activated', 'cyclins', 'although', 'discovered', 'almost', 'ago', '3', 'cdk10', 'remains', 'one', 'two', 'cdks', 'without', 'identified', 'cyclin', 'partner', 'knowledge', 'gap', 'largely', 'impeded', 'exploration', 'biological', 'functions', 'cdk10', 'act', 'positive', 'cell', 'cycle', 'regulator', 'cells', '5', 'tumor', 'suppressor', 'others', '7', 'cdk10', 'interacts', 'ets2', 'vets', 'erythroblastosis', 'virus', 'e26', 'oncogene', 'homolog', 'transcription', 'factor', 'inhibits', 'transcriptional', 'activity', 'unknown', 'mechanism', 'cdk10', 'knockdown', 'derepresses', 'ets2', 'increases', 'expression', 'craf', 'protein', 'kinase', 'activates', 'mapk', 'pathway', 'induces', 'resistance', 'mcf7', 'cells', 'tamoxifen', 'here', 'deorphanize', 'cdk10', 'identifying', 'cyclin', 'm', 'product', 'fam58a', 'binding', 'partner', 'mutations', 'gene', 'predict', 'absence', 'truncation', 'cyclin', 'associated', 'star', 'syndrome', 'whose', 'features', 'include', 'toe', 'syndactyly', 'telecanthus', 'anogenital', 'renal', 'malformations', 'heterozygous', 'females', 'however', 'functions', 'cyclin', 'pathogenesis', 'star', 'syndrome', 'remain', 'unknown', 'show', 'recombinant', 'cdk10cyclin', 'heterodimer', 'active', 'protein', 'kinase', 'phosphorylates', 'ets2', 'vitro', 'cyclin', 'silencing', 'phenocopies', 'cdk10', 'silencing', 'increasing', 'craf', 'phosphoerk', 'expression', 'levels', 'inducing', 'tamoxifen', 'resistance', 'estrogen', 'receptor', 'er', 'breast', 'cancer', 'cells', 'show', 'cdk10cyclin', 'positively', 'controls', 'ets2', 'degradation', 'proteasome', 'phosphorylation', 'two', 'neighboring', 'serines', 'finally', 'detect', 'increased', 'ets2', 'expression', 'level', 'cells', 'derived', 'star', 'patient', 'demonstrate', 'attributable', 'decreased', 'cyclin', 'expression', 'level', 'observed', 'cellsprevious', 'sectionnext', 'sectionresultsa', 'yeast', 'twohybrid', 'y2h', 'screen', 'unveiled', 'interaction', 'signal', 'cdk10', 'mouse', 'protein', 'whose', 'cterminal', 'half', 'presents', 'strong', 'sequence', 'homology', 'human', 'fam58a', 'gene', 'product', 'whose', 'proposed', 'name', 'cyclin', 'thus', 'performed', 'y2h', 'mating', 'assays', 'determine', 'whether', 'human', 'cdk10', 'interacts', 'human', 'cyclin', 'fig', 'c', 'longest', 'cdk10', 'isoform', 'p1', 'expressed', 'bait', 'protein', 'produced', 'strong', 'interaction', 'phenotype', 'fulllength', 'cyclin', 'expressed', 'prey', 'protein', 'detectable', 'phenotype', 'cyclin', 'd1', 'p21', 'cip1', 'cdi1', 'kap', 'known', 'binding', 'partners', 'cdks', 'fig', '1b', 'cdk1', 'cdk3', 'also', 'produced', 'y2h', 'signals', 'cyclin', 'm', 'albeit', 'notably', 'weaker', 'observed', 'cdk10', 'fig', '1b', 'interaction', 'phenotype', 'also', 'observed', 'fulllength', 'cyclin', 'cdk10', 'proteins', 'expressed', 'bait', 'prey', 'respectively', 'fig', 's1a', 'tested', 'different', 'isoforms', 'cdk10', 'cyclin', 'originating', 'alternative', 'gene', 'splicing', 'two', 'truncated', 'cyclin', 'proteins', 'corresponding', 'hypothetical', 'products', 'two', 'mutated', 'fam58a', 'genes', 'found', 'star', 'syndrome', 'patients', 'none', 'shorter', 'isoforms', 'produced', 'interaction', 'phenotypes', 'fig', 'c', 'fig', 's1a', 'fig', '1in', 'new', 'window', 'download', 'pptfig', '1cdk10', 'cyclin', 'form', 'interaction', 'complex', 'schematic', 'representation', 'different', 'protein', 'isoforms', 'analyzed', 'y2h', 'assays', 'amino', 'acid', 'numbers', 'indicated', 'black', 'boxes', 'indicate', 'internal', 'deletions', 'red', 'box', 'indicates', 'differing', 'amino', 'acid', 'sequence', 'compared', 'cdk10', 'p1', 'b', 'y2h', 'assay', 'set', 'cdk', 'proteins', 'expressed', 'baits', 'fusion', 'lexa', 'dna', 'binding', 'domain', 'cdk', 'interacting', 'proteins', 'expressed', 'preys', 'fusion', 'b42', 'transcriptional', 'activator', 'peg202', 'pjg45', 'empty', 'bait', 'prey', 'plasmids', 'expressing', 'lexa', 'b42', 'respectively', 'lacz', 'used', 'reporter', 'gene', 'blue', 'yeast', 'indicative', 'y2h', 'interaction', 'phenotype', 'c', 'y2h', 'assay', 'different', 'cdk10', 'cyclin', 'isoforms', 'aminoterminal', 'region', 'ets2', 'known', 'interact', 'cdk10', 'also', 'assayed', 'western', 'blot', 'analysis', 'myccdk10', 'wt', 'kd', 'cycmv56his', 'expression', 'levels', 'transfected', 'hek293', 'cells', 'e', 'western', 'blot', 'analysis', 'myccdk10', 'wt', 'kd', 'immunoprecipitates', 'obtained', 'using', 'antimyc', 'antibody', 'inputs', 'correspond', 'g', 'total', 'lysates', 'obtained', 'hek293', 'cells', 'coexpressing', 'myccdk10', 'wt', 'kd', 'cycmv56his', 'f', 'western', 'blot', 'analysis', 'immunoprecipitates', 'obtained', 'using', 'anticdk10', 'antibody', 'control', 'goat', 'antibody', 'human', 'breast', 'cancer', 'mcf7', 'cells', 'input', 'corresponds', 'g', 'mcf7', 'total', 'cell', 'lysates', 'lower', 'band', 'doublet', 'observed', 'upper', 'panel', 'comigrates', 'exogenously', 'expressed', 'untagged', 'cdk10', 'thus', 'corresponds', 'endogenous', 'cdk10', 'upper', 'band', 'doublet', 'corresponds', 'nonspecific', 'signal', 'demonstrated', 'insensitivity', 'either', 'overexpression', 'cdk10', 'seen', 'left', 'lane', 'silencing', 'cdk10', 'fig', 's2b', 'another', 'experiment', 'longer', 'gel', 'migration', 'shown', 'fig', 's1dnext', 'examined', 'ability', 'cdk10', 'cyclin', 'interact', 'expressed', 'human', 'cells', 'fig', 'e', 'tested', 'wildtype', 'cdk10', 'wt', 'kinase', 'dead', 'kd', 'mutant', 'bearing', 'd181a', 'amino', 'acid', 'substitution', 'abolishes', 'atp', 'binding', 'expressed', 'cyclin', 'mv56his', 'andor', 'myccdk10', 'wt', 'kd', 'human', 'embryonic', 'kidney', 'cell', 'line', 'hek293', 'expression', 'level', 'cyclin', 'mv56his', 'significantly', 'increased', 'upon', 'coexpression', 'myccdk10', 'wt', 'kd', 'and', 'lesser', 'extent', 'myccdk10', 'wt', 'kd', 'increased', 'upon', 'coexpression', 'cyclin', 'mv56his', 'fig', '1d', 'immunoprecipitated', 'myccdk10', 'proteins', 'detected', 'presence', 'cyclin', 'cdk10', 'wt', 'kd', 'immunoprecipitates', 'proteins', 'coexpressed', 'pairwise', 'fig', '1e', 'confirmed', 'observations', 'detecting', 'presence', 'myccdk10', 'cyclin', 'mv56his', 'immunoprecipitates', 'fig', 's1b', 'experiments', 'confirmed', 'lack', 'robust', 'interaction', 'cdk10p2', 'isoform', 'cyclin', 'fig', 's1c', 'detect', 'interaction', 'endogenous', 'proteins', 'performed', 'immunoprecipitations', 'nontransfected', 'mcf7', 'cells', 'derived', 'human', 'breast', 'cancer', 'cdk10', 'cyclin', 'antibodies', 'detected', 'cognate', 'endogenous', 'proteins', 'western', 'blotting', 'readily', 'detected', 'cyclin', 'immunoprecipitates', 'obtained', 'cdk10', 'antibody', 'control', 'antibody', 'fig', '1f', 'results', 'confirm', 'physical', 'interaction', 'cdk10', 'cyclin', 'human', 'cellsto', 'unveil', 'hypothesized', 'cdk10cyclin', 'protein', 'kinase', 'activity', 'produced', 'gstcdk10', 'strepiicyclin', 'fusion', 'proteins', 'insect', 'cells', 'either', 'individually', 'combination', 'observed', 'gstcdk10', 'strepiicyclin', 'copurified', 'thus', 'confirming', 'interaction', 'yet', 'another', 'cellular', 'model', 'fig', '2a', 'performed', 'vitro', 'kinase', 'assays', 'purified', 'proteins', 'using', 'histone', 'h1', 'generic', 'substrate', 'histone', 'h1', 'phosphorylation', 'detected', 'lysates', 'cells', 'coexpressing', 'gstcdk10', 'strepiicyclin', 'm', 'phosphorylation', 'detected', 'gstcdk10', 'strepiicyclin', 'expressed', 'alone', 'strepiicyclin', 'coexpressed', 'gstcdk10', 'kd', 'fig', '2a', 'next', 'investigated', 'whether', 'ets2', 'known', 'interact', 'cdk10', 'fig', '1c', 'phosphorylation', 'substrate', 'cdk10cyclin', 'm', 'detected', 'strong', 'phosphorylation', 'ets2', 'gstcdk10strepiicyclin', 'purified', 'heterodimer', 'whereas', 'phosphorylation', 'detected', 'using', 'gstcdk10', 'alone', 'gstcdk10', 'kd', 'strepiicyclin', 'heterodimer', 'fig', '2b', 'fig', '2in', 'new', 'window', 'download', 'pptfig', '2cdk10', 'cyclin', 'mdependent', 'protein', 'kinase', 'vitro', 'protein', 'kinase', 'assay', 'histone', 'h1', 'lysates', 'insect', 'cells', 'expressing', 'different', 'proteins', 'purified', 'glutathione', 'sepharose', 'matrix', 'capture', 'gstcdk10', 'wt', 'kd', 'fusion', 'proteins', 'alone', 'complex', 'strcycm', 'fusion', 'protein', 'purified', 'protein', 'expression', 'levels', 'analyzed', 'western', 'blots', 'top', 'upper', 'middle', 'kinase', 'activity', 'determined', 'autoradiography', 'histone', 'h1', 'whose', 'added', 'amounts', 'visualized', 'coomassie', 'staining', 'lower', 'middle', 'bottom', 'b', 'a', 'using', 'purified', 'recombinant', '6hisets2', 'substratecdk10', 'silencing', 'shown', 'increase', 'ets2driven', 'craf', 'transcription', 'activate', 'mapk', 'pathway', 'investigated', 'whether', 'cyclin', 'also', 'involved', 'regulatory', 'pathway', 'aim', 'highly', 'specific', 'silencing', 'used', 'sirna', 'pools', 'mix', 'four', 'different', 'sirnas', 'low', 'final', 'concentration', 'nm', 'cdk10', 'cyclin', 'sirna', 'pools', 'silenced', 'expression', 'cognate', 'targets', 'fig', 'c', 'fig', 's2', 'and', 'interestingly', 'cyclin', 'sirna', 'pool', 'also', 'caused', 'marked', 'decrease', 'cdk10', 'protein', 'level', 'fig', '3a', 'fig', 's2b', 'results', 'shown', 'fig', '1d', 'suggest', 'cyclin', 'binding', 'stabilizes', 'cdk10', 'cyclin', 'silencing', 'induced', 'increase', 'craf', 'protein', 'mrna', 'levels', 'fig', 'b', 'c', 'phosphorylated', 'erk1', 'erk2', 'protein', 'levels', 'fig', 's3b', 'similarly', 'cdk10', 'silencing', 'expected', 'effects', 'cdk10', 'cyclin', 'silencing', 'decreased', 'sensitivity', 'er', 'mcf7', 'cells', 'tamoxifen', 'similar', 'extent', 'combined', 'silencing', 'genes', 'result', 'higher', 'resistance', 'drug', 'fig', 's3c', 'altogether', 'observations', 'demonstrate', 'functional', 'interaction', 'cyclin', 'cdk10', 'negatively', 'controls', 'ets2fig', '3in', 'new', 'window', 'download', 'pptfig', '3cyclin', 'silencing', 'upregulates', 'craf', 'expression', 'western', 'blot', 'analysis', 'endogenous', 'cdk10', 'cyclin', 'expression', 'levels', 'mcf7', 'cells', 'response', 'sirnamediated', 'gene', 'silencing', 'b', 'western', 'blot', 'analysis', 'endogenous', 'craf', 'expression', 'levels', 'mcf7', 'cells', 'response', 'cdk10', 'cyclin', 'silencing', 'quantification', 'shown', 'fig', 's3a', 'c', 'quantitative', 'rtpcr', 'analysis', 'cdk10', 'cyclin', 'm', 'craf', 'mrna', 'levels', 'response', 'cdk10', 'upper', 'cyclin', 'lower', 'silencing', 'p', '001', 'p', '0001we', 'wished', 'explore', 'mechanism', 'cdk10cyclin', 'controls', 'ets2', 'ets2', 'shortlived', 'protein', 'degraded', 'proteasome', 'straightforward', 'hypothesis', 'cdk10cyclin', 'positively', 'controls', 'ets2', 'degradation', 'thus', 'examined', 'impact', 'cdk10', 'cyclin', 'silencing', 'ets2', 'expression', 'levels', 'silencing', 'cdk10', 'cyclin', 'caused', 'increase', 'expression', 'levels', 'exogenously', 'expressed', 'flagets2', 'protein', 'fig', 's4a', 'well', 'endogenous', 'ets2', 'protein', 'fig', '4a', 'increase', 'attributable', 'increased', 'ets2', 'mrna', 'levels', 'marginally', 'fluctuated', 'response', 'cdk10', 'cyclin', 'silencing', 'fig', 's4b', 'examined', 'expression', 'levels', 'flagtagged', 'ets2', 'protein', 'expressed', 'alone', 'combination', 'myccdk10', 'cdk10', 'kd', 'without', 'cyclin', 'mv56his', 'flagets2', 'readily', 'detected', 'expressed', 'alone', 'or', 'lesser', 'extent', 'coexpressed', 'cdk10', 'kd', 'however', 'expression', 'level', 'dramatically', 'decreased', 'coexpressed', 'cdk10', 'alone', 'cdk10', 'cyclin', 'fig', '4b', 'observations', 'suggest', 'endogenous', 'cyclin', 'levels', 'excess', 'compared', 'cdk10', 'mcf7', 'cells', 'show', 'major', 'decrease', 'ets2', 'levels', 'observed', 'upon', 'cdk10', 'coexpression', 'involves', 'cdk10', 'kinase', 'activity', 'treatment', 'cells', 'coexpressing', 'flagets2', 'cdk10', 'cyclin', 'proteasome', 'inhibitor', 'mg132', 'largely', 'rescued', 'flagets2', 'expression', 'levels', 'fig', '4b', 'fig', '4in', 'new', 'window', 'download', 'pptfig', '4cdk10cyclin', 'controls', 'ets2', 'stability', 'human', 'cancer', 'derived', 'cells', 'western', 'blot', 'analysis', 'endogenous', 'ets2', 'expression', 'levels', 'mcf7', 'cells', 'response', 'sirnamediated', 'cdk10', 'andor', 'cyclin', 'silencing', 'quantification', 'shown', 'fig', 's4b', 'b', 'western', 'blot', 'analysis', 'exogenously', 'expressed', 'flagets2', 'protein', 'levels', 'mcf7', 'cells', 'cotransfected', 'empty', 'vectors', 'coexpressing', 'myccdk10', 'wt', 'kd', 'myccdk10cycmv56his', 'latter', 'cells', 'treated', 'h', 'mg132', 'proteasome', 'inhibitor', 'proper', 'expression', 'cdk10', 'cyclin', 'tagged', 'proteins', 'verified', 'western', 'blot', 'analysis', 'c', 'western', 'blot', 'analysis', 'expression', 'levels', 'exogenously', 'expressed', 'flagets2', 'wildtype', 'mutant', 'proteins', 'mcf7', 'cells', 'absence', 'c', 'response', 'myccdk10cycmv56his', 'expression', 'quantifications', 'shown', 'fig', 's4', 'c', 'da', 'mass', 'spectrometry', 'analysis', 'recombinant', 'ets2', 'phosphorylated', 'cdk10cyclin', 'vitro', 'revealed', 'existence', 'multiple', 'phosphorylated', 'residues', 'among', 'two', 'neighboring', 'phosphoserines', 'positions', 'may', 'form', 'phosphodegron', 'figs', 's5', 's8', 'confirm', 'finding', 'compared', 'phosphorylation', 'level', 'recombinant', 'ets2wt', 'ets2sasa', 'protein', 'mutant', 'bearing', 'alanine', 'substitutions', 'two', 'serines', 'expected', 'existence', 'multiple', 'phosphorylation', 'sites', 'detected', 'small', 'reproducible', 'significant', 'decrease', 'phosphorylation', 'level', 'ets2sasa', 'compared', 'ets2wt', 'fig', 's9', 'thus', 'confirming', 'ser220ser225', 'phosphorylated', 'cdk10cyclin', 'm', 'establish', 'direct', 'link', 'ets2', 'phosphorylation', 'cdk10cyclin', 'degradation', 'examined', 'expression', 'levels', 'flagets2sasa', 'absence', 'cdk10cyclin', 'coexpression', 'differ', 'significantly', 'flagets2', 'contrary', 'flagets2dbm', 'bearing', 'deletion', 'nterminal', 'destruction', 'd', 'box', 'previously', 'shown', 'involved', 'apccdh1', 'mediated', 'degradation', 'ets2', 'fig', '4c', 'however', 'contrary', 'flagets2', 'wild', 'type', 'expression', 'level', 'flagets2sasa', 'remained', 'insensitive', 'cdk10cyclin', 'coexpression', 'fig', '4d', 'altogether', 'results', 'suggest', 'cdk10cyclin', 'directly', 'controls', 'ets2', 'degradation', 'phosphorylation', 'two', 'serinesfinally', 'studied', 'lymphoblastoid', 'cell', 'line', 'derived', 'patient', 'star', 'syndrome', 'bearing', 'fam58a', 'mutation', 'c5551g', 'a', 'predicted', 'result', 'aberrant', 'splicing', 'accordance', 'incomplete', 'skewing', 'x', 'chromosome', 'inactivation', 'previously', 'found', 'patient', 'detected', 'decreased', 'expression', 'level', 'cyclin', 'protein', 'star', 'cell', 'line', 'compared', 'control', 'lymphoblastoid', 'cell', 'line', 'line', 'preceding', 'observations', 'detected', 'increased', 'expression', 'level', 'ets2', 'protein', 'star', 'cell', 'line', 'compared', 'control', 'fig', '5a', 'fig', 's10a', 'examined', 'quantitative', 'rtpcr', 'mrna', 'expression', 'levels', 'corresponding', 'genes', 'star', 'cell', 'line', 'showed', 'decreased', 'expression', 'level', 'cyclin', 'mrna', 'expression', 'level', 'ets2', 'mrna', 'similar', 'control', 'cell', 'line', 'fig', '5b', 'demonstrate', 'increase', 'ets2', 'protein', 'expression', 'indeed', 'result', 'decreased', 'cyclin', 'expression', 'observed', 'star', 'patientderived', 'cell', 'line', 'expressed', 'cyclin', 'mv56his', 'cell', 'line', 'expression', 'caused', 'decrease', 'ets2', 'protein', 'levels', 'fig', '5c', 'fig', '5in', 'new', 'window', 'download', 'pptfig', '5decreased', 'cyclin', 'expression', 'star', 'patientderived', 'cells', 'results', 'increased', 'ets2', 'protein', 'level', 'western', 'blot', 'analysis', 'cyclin', 'ets2', 'protein', 'levels', 'star', 'patientderived', 'lymphoblastoid', 'cell', 'line', 'control', 'lymphoblastoid', 'cell', 'line', 'derived', 'healthy', 'individual', 'quantification', 'shown', 'fig', 's10a', 'b', 'quantitative', 'rtpcr', 'analysis', 'cyclin', 'ets2', 'mrna', 'levels', 'cells', 'p', '0001', 'c', 'western', 'blot', 'analysis', 'ets2', 'protein', 'levels', 'star', 'patientderived', 'lymphoblastoid', 'cell', 'line', 'transfected', 'empty', 'vector', 'vector', 'directing', 'expression', 'cyclin', 'mv56his', 'another', 'western', 'blot', 'revealing', 'endogenously', 'exogenously', 'expressed', 'cyclin', 'levels', 'shown', 'fig', 's10b', 'quantification', 'ets2', 'protein', 'levels', 'shown', 'fig', 's10cprevious', 'sectionnext', 'sectiondiscussionin', 'work', 'unveil', 'interaction', 'cdk10', 'last', 'orphan', 'cdk', 'discovered', 'pregenomic', 'era', 'cyclin', 'm', 'cyclin', 'associated', 'human', 'genetic', 'disease', 'far', 'whose', 'functions', 'remain', 'unknown', 'closest', 'paralogs', 'cdk10', 'within', 'cdk', 'family', 'cdk11', 'proteins', 'interact', 'ltype', 'cyclins', 'interestingly', 'closest', 'paralog', 'cyclins', 'within', 'cyclin', 'family', 'cyclin', 'fig', 's11', 'fact', 'none', 'shorter', 'cdk10', 'isoforms', 'interact', 'robustly', 'cyclin', 'suggests', 'alternative', 'splicing', 'cdk10', 'gene', '16', 'plays', 'important', 'role', 'regulating', 'cdk10', 'functionsthe', 'functional', 'relevance', 'interaction', 'cdk10', 'cyclin', 'supported', 'different', 'observations', 'proteins', 'seem', 'enhance', 'stability', 'judged', 'increased', 'expression', 'levels', 'partner', 'exogenously', 'coexpressed', 'fig', '1d', 'much', 'reduced', 'endogenous', 'cdk10', 'expression', 'level', 'observed', 'response', 'cyclin', 'silencing', 'fig', '3a', 'fig', 's2b', 'cdk10', 'subject', 'ubiquitinmediated', 'degradation', 'observations', 'suggest', 'cyclin', 'protects', 'cdk10', 'degradation', 'cyclin', 'partner', 'cdk10', 'least', 'mcf7', 'cells', 'also', 'suggest', 'cyclin', 'stability', 'enhanced', 'upon', 'binding', 'cdk10', 'independently', 'kinase', 'activity', 'seen', 'cyclin', 'c', 'cdk8', 'uncover', 'cyclin', 'mdependent', 'cdk10', 'protein', 'kinase', 'activity', 'vitro', 'thus', 'demonstrating', 'protein', 'named', 'cdk', 'sole', 'basis', 'amino', 'acid', 'sequence', 'indeed', 'genuine', 'cyclindependent', 'kinase', 'y2h', 'assays', 'reveal', 'truncated', 'cyclin', 'proteins', 'corresponding', 'hypothetical', 'products', 'two', 'star', 'syndromeassociated', 'fam58a', 'mutations', 'produce', 'interaction', 'phenotype', 'cdk10', 'hence', 'regardless', 'whether', 'mutated', 'mrnas', 'undergo', 'nonsensemediated', 'decay', 'suggested', 'decreased', 'cyclin', 'mrna', 'levels', 'star', 'cells', 'shown', 'fig', '5b', 'give', 'rise', 'truncated', 'cyclin', 'proteins', 'females', 'affected', 'star', 'syndrome', 'must', 'exhibit', 'compromised', 'cdk10cyclin', 'kinase', 'activity', 'least', 'tissues', 'specific', 'developmental', 'stageswe', 'show', 'ets2', 'known', 'interactor', 'cdk10', 'phosphorylation', 'substrate', 'cdk10cyclin', 'vitro', 'cdk10cyclin', 'kinase', 'activity', 'positively', 'controls', 'ets2', 'degradation', 'proteasome', 'control', 'seems', 'exerted', 'fine', 'mechanism', 'judged', 'sensitivity', 'ets2', 'levels', 'partially', 'decreased', 'cdk10', 'cyclin', 'levels', 'achieved', 'mcf7', 'cells', 'observed', 'star', 'cells', 'respectively', 'findings', 'offer', 'straightforward', 'explanation', 'already', 'reported', 'upregulation', 'ets2driven', 'transcription', 'craf', 'response', 'cdk10', 'silencing', 'bring', 'evidence', 'cdk10cyclin', 'directly', 'controls', 'ets2', 'degradation', 'phosphorylation', 'two', 'neighboring', 'serines', 'may', 'form', 'noncanonical', 'trcp', 'phosphodegron', 'dsmcpas', 'none', 'two', 'serines', 'precede', 'proline', 'conform', 'usual', 'cdk', 'phosphorylation', 'sites', 'however', 'multiple', 'socalled', 'transcriptional', 'cdks', 'cdk7', '8', '9', '11', 'cdk10', 'may', 'belong', 'fig', 's11', 'shown', 'phosphorylate', 'variety', 'motifs', 'non', 'prolinedirected', 'fashion', 'especially', 'context', 'molecular', 'docking', 'substrate', 'here', 'hypothesized', 'highaffinity', 'interaction', 'cdk10', 'pointed', 'domain', 'ets2', '6', 'fig', '1c', 'would', 'allow', 'dockingmediated', 'phosphorylation', 'atypical', 'sites', 'control', 'ets2', 'degradation', 'involves', 'number', 'players', 'including', 'apccdh1', 'cullinring', 'ligase', 'crl4', 'formal', 'identification', 'ubiquitin', 'ligase', 'involved', 'cdk10cyclin', 'pathway', 'elucidation', 'concerted', 'action', 'ubiquitin', 'ligases', 'regulate', 'ets2', 'degradation', 'require', 'studiesour', 'results', 'present', 'number', 'significant', 'biological', 'medical', 'implications', 'first', 'shed', 'light', 'regulation', 'ets2', 'plays', 'important', 'role', 'development', 'frequently', 'deregulated', 'many', 'cancers', 'second', 'results', 'contribute', 'understanding', 'molecular', 'mechanisms', 'causing', 'tamoxifen', 'resistance', 'associated', 'reduced', 'cdk10', 'expression', 'levels', 'suggest', 'that', 'like', 'cdk10', 'cyclin', 'could', 'also', 'predictive', 'clinical', 'marker', 'hormone', 'therapy', 'response', 'er', 'positive', 'breast', 'cancer', 'patients', 'third', 'findings', 'offer', 'interesting', 'hypothesis', 'molecular', 'mechanisms', 'underlying', 'star', 'syndrome', 'ets2', 'transgenic', 'mice', 'showing', 'less', 'twofold', 'overexpression', 'ets2', 'present', 'severe', 'cranial', 'abnormalities', 'observed', 'star', 'patients', 'could', 'thus', 'caused', 'least', 'part', 'increased', 'ets2', 'protein', 'levels', 'another', 'expected', 'consequence', 'enhanced', 'ets2', 'expression', 'levels', 'would', 'decreased', 'risk', 'develop', 'certain', 'types', 'cancers', 'increased', 'risk', 'develop', 'others', 'studies', 'various', 'mouse', 'models', 'including', 'models', 'syndrome', 'three', 'copies', 'ets2', 'exist', 'revealed', 'ets2', 'dosage', 'repress', 'promote', 'tumor', 'growth', 'and', 'hence', 'ets2', 'exerts', 'noncell', 'autonomous', 'functions', 'cancer', 'intringuingly', 'one', 'star', 'patients', 'identified', 'far', 'diagnosed', 'nephroblastoma', 'finally', 'findings', 'facilitate', 'general', 'exploration', 'biological', 'functions', 'cdk10', 'and', 'particular', 'role', 'control', 'cell', 'division', 'previous', 'studies', 'suggested', 'either', 'positive', 'role', 'cell', 'cycle', 'control', '5', 'tumorsuppressive', 'activity', 'cancers', '7', 'severe', 'growth', 'retardation', 'exhibited', 'star', 'patients', 'strongly', 'suggests', 'cdk10cyclin', 'plays', 'important', 'role', 'control', 'cell', 'proliferationprevious', 'sectionnext', 'sectionmaterials', 'methodscloning', 'cdk10', 'cyclin', 'cdnas', 'plasmid', 'constructions', 'tamoxifen', 'response', 'analysis', 'quantitative', 'rtpcr', 'mass', 'spectrometry', 'experiments', 'antibody', 'production', 'detailed', 'si', 'materials', 'methodsyeast', 'twohybrid', 'interaction', 'assays', 'performed', 'yeast', 'interaction', 'mating', 'assays', 'previously', 'described', 'mammalian', 'cell', 'cultures', 'transfections', 'grew', 'human', 'hek293', 'mcf7', 'cells', 'dmem', 'supplemented', 'volvol', 'fbs', 'invitrogen', 'grew', 'lymphoblastoid', 'cells', 'rpmi', 'glutamax', 'supplemented', 'volvol', 'fbs', 'transfected', 'hek293', 'mcf7', 'cells', 'using', 'lipofectamine', 'invitrogen', 'plasmids', 'lipofectamine', 'rnaimax', 'invitrogen', 'sirnas', 'jetprime', 'polyplus', 'plasmidssirnas', 'combinations', 'according', 'manufacturers', 'instructions', 'transfected', 'lymphoblastoid', 'cells', 'electroporation', 'neon', 'invitrogen', 'ets2', 'stability', 'studies', 'treated', 'mcf7', 'cells', 'h', 'transfection', 'mg132', 'fisher', 'scientific', 'hcoimmunoprecipitation', 'western', 'blot', 'experiments', 'collected', 'cells', 'scraping', 'pbs', 'centrifugation', 'lymphoblastoid', 'cells', 'lysed', 'sonication', 'lysis', 'buffer', 'containing', 'mm', 'glycerophosphate', 'mm', 'pnitrophenylphosphate', 'mm', '3', 'nmorpholino', 'propanesulfonic', 'acid', 'mops', 'ph', '72', 'mm', 'egta', 'mm', 'mgcl2', 'mm', 'na', 'vanadate', 'mm', 'naf', '1mm', 'phenylphosphate', '01', 'nonidet', 'p40', 'protease', 'inhibitor', 'mixture', 'roche', 'spun', 'lysates', 'min', '20000', 'g', 'c', 'collected', 'supernatants', 'determined', 'protein', 'content', 'using', 'bradford', 'assay', 'performed', 'immunoprecipitation', 'experiments', 'g', 'total', 'proteins', 'lysis', 'buffer', 'precleared', 'lysates', 'l', 'protein', 'gagarose', 'beads', 'incubated', 'h', 'c', 'rotating', 'wheel', 'added', 'g', 'antibody', 'supernatants', 'incubated', 'h', 'c', 'rotating', 'wheel', 'added', 'l', 'protein', 'gagarose', 'beads', 'incubated', 'h', 'c', 'rotating', 'wheel', 'collected', 'beads', 'centrifugation', '18000', 'g', 'c', 'washed', 'three', 'times', 'bead', 'buffer', 'containing', 'mm', 'tris', 'ph', '74', 'mm', 'naf', 'mm', 'nacl', 'mm', 'edta', 'mm', 'egta', '01', 'nonidet', 'p40', 'protease', 'inhibitor', 'coktail', 'roche', 'directly', 'added', 'sample', 'buffer', 'washed', 'pellets', 'heatdenatured', 'proteins', 'ran', 'samples', 'bistris', 'sdspage', 'transferred', 'proteins', 'onto', 'hybond', 'nitrocellulose', 'membranes', 'processed', 'blots', 'according', 'standard', 'procedures', 'western', 'blot', 'experiments', 'used', 'following', 'primary', 'antibodies', 'antimyc', 'abcam', 'ab9106', '12000', 'antiv5', 'invitrogen', 'r960', '15000', 'antitubulin', 'santa', 'cruz', 'biotechnology', 'b7', '1500', 'anticdk10', 'covalab', 'pab0847p', '1500', 'santa', 'cruz', 'biotechnology', 'c19', '1500', 'anticycm', 'homemade', 'dilution', '1500', 'covalab', 'pab0882p', 'dilution', '1500', 'antiraf1', 'santa', 'cruz', 'biotechnology', 'c20', '11000', 'antiets2', 'santa', 'cruz', 'biotechnology', 'c20', '11000', 'antiflag', 'sigma', 'f7425', '11000', 'antiactin', 'sigma', 'a5060', '15000', 'used', 'hrpcoupled', 'antigoat', 'santa', 'cruz', 'biotechnology', 'sc2033', 'dilution', '12000', 'antimouse', 'biorad', '6516', 'dilution', '13000', 'antirabbit', 'biorad', '1019', '15000', 'secondary', 'antibodies', 'revealed', 'blots', 'enhanced', 'chemiluminescence', 'supersignal', 'west', 'femto', 'thermo', 'scientific', 'production', 'purification', 'recombinant', 'proteinsgstcdk10', 'kd', 'strepiicycm', 'generated', 'recombinant', 'bacmids', 'dh10bac', 'escherichia', 'coli', 'baculoviruses', 'sf9', 'cells', 'using', 'bactobac', 'system', 'described', 'provider', 'invitrogen', 'infected', 'sf9', 'cells', 'gstcdk10', 'gstcdk10kd', 'producing', 'viruses', 'coinfected', 'cells', 'strepiicycm', 'producing', 'viruses', 'collected', 'cells', 'h', 'infection', 'purify', 'gstfusion', 'proteins', 'spun', 'ml', 'cells', 'resuspended', 'pellet', 'ml', 'lysis', 'buffer', 'pbs', 'mm', 'nacl', '05', 'nonidet', 'p40', 'mm', 'naf', 'mm', 'glycerophosphate', '03', 'mm', 'navanadate', 'containing', 'protease', 'inhibitor', 'mixture', 'roche', 'lysed', 'cells', 'sonication', 'spun', 'lysate', 'min', '15000', 'g', 'collected', 'soluble', 'fraction', 'added', '1ml', 'glutathionesepharose', 'matrix', 'incubated', 'h', 'c', 'washed', 'four', 'times', 'lysis', 'buffer', 'one', 'time', 'kinase', 'buffer', 'see', 'finally', 'resuspended', 'beads', 'l', 'kinase', 'buffer', 'containing', 'volvol', 'glycerol', 'storage6hisets2', 'transformed', 'origami2', 'de3', 'novagen', '6hisets2', 'expression', 'vector', 'induced', 'expression', '02', 'mm', 'isopropyl', 'd1thiogalactopyranoside', 'h', 'c', 'purify', '6hisets2', 'spun', 'ml', 'cells', 'resuspended', 'pellet', 'ml', 'lysis', 'buffer', 'pbs', 'mm', 'nacl', 'mm', 'imidazole', 'mm', 'dtt', '01', 'nonidet', 'p40', 'containing', 'protease', 'inhibitor', 'mixture', 'without', 'edta', 'roche', 'lysed', 'cells', '16', 'bar', 'using', 'cell', 'disruptor', 'spun', 'lysate', 'min', '20000', 'g', 'collected', 'soluble', 'fraction', 'added', 'l', 'cobalt', 'beads', 'thermo', 'scientific', 'h', 'incubation', 'c', 'rotating', 'wheel', 'washed', 'four', 'times', 'lysis', 'buffer', 'elute', 'incubated', 'beads', 'min', 'elution', 'buffer', 'pbs', 'mm', 'imidazole', 'ph', '76', 'containing', 'protease', 'inhibitor', 'mixture', 'spun', '10000', 'g', 'collected', 'eluted', 'proteinprotein', 'kinase', 'assays', 'mixed', 'glutathionesepharose', 'beads', 'harboring', 'gstcdk10', 'wt', 'kd', 'either', 'monomeric', 'complexed', 'strepiicycm', '227', 'bsa', 'mm', 'dtt', 'atp', 'ci', 'atp', '32p', '775', 'histone', 'h1', '6hisets2', 'added', 'kinase', 'buffer', 'mm', 'tris', 'hcl', 'mm', 'mgcl2', 'mm', 'egta', 'mm', 'dtt', '37', 'heparin', 'ph', '75', 'total', 'volume', 'l', 'incubated', 'reactions', 'min', 'c', 'added', 'laemli', 'sample', 'buffer', 'heatdenatured', 'samples', 'ran', 'bistris', 'sdspage', 'cut', 'gel', 'slices', 'detect', 'gstcdk10', 'strepiicycm', 'western', 'blotting', 'stained', 'gel', 'slices', 'containing', 'substrate', 'coomassie', 'r250', 'biorad', 'dried', 'them', 'detected', 'incorporated', 'radioactivity', 'autoradiography', 'identified', 'four', 'unrelated', 'girls', 'anogenital', 'renal', 'malformations', 'dysmorphic', 'facial', 'features', 'normal', 'intellect', 'syndactyly', 'toes', 'similar', 'combination', 'features', 'reported', 'previously', 'mother', 'daughter', 'pair1', 'table', 'supplementary', 'note', 'online', 'authors', 'noted', 'clinical', 'overlap', 'townesbrocks', 'syndrome', 'suggested', 'phenotype', 'represented', 'separate', 'autosomal', 'dominant', 'entity', 'mim601446', 'define', 'cardinal', 'features', 'syndrome', 'characteristic', 'facial', 'appearance', 'apparent', 'telecanthus', 'broad', 'tripartite', 'nasal', 'tip', 'variable', 'syndactyly', 'toes', '5', 'hypoplastic', 'labia', 'anal', 'atresia', 'urogenital', 'malformations', 'fig', '1a', 'h', 'also', 'observed', 'variety', 'features', 'table', 'figure', '1', 'clinical', 'molecular', 'characterization', 'star', 'syndrome', 'figure', 'clinical', 'molecular', 'characterization', 'star', 'syndrome', 'f', 'facial', 'appearances', 'cases', 'apparent', 'telecanthus', 'dysplastic', 'ears', 'thin', 'upper', 'lips', 'ace', 'toe', 'syndactyly', '5', 'bdf', 'cases', 'illustrate', 'recognizable', 'features', 'star', 'syndrome', 'specific', 'parental', 'consent', 'obtained', 'publication', 'photographs', 'anal', 'atresia', 'hypoplastic', 'labia', 'shown', 'gh', 'xray', 'films', 'feet', 'case', 'showing', 'four', 'rays', 'left', 'deltashaped', '4th', '5th', 'metatarsals', 'right', 'h', 'compare', 'clinical', 'picture', 'arraycgh', 'data', 'log2', 'ratio', 'represents', 'copy', 'number', 'loss', 'six', 'probes', 'spanning', '379', '507', 'kb', 'one', 'probe', 'positioned', 'within', 'fam58a', 'deletion', 'remove', 'parts', 'functional', 'genes', 'j', 'schematic', 'structure', 'fam58a', 'position', 'mutations', 'fam58a', 'five', 'coding', 'exons', 'boxes', 'cyclin', 'domain', 'green', 'encoded', 'exons', '4', 'horizontal', 'arrow', 'indicates', 'deletion', 'extending', '5', 'case', '1', 'includes', 'exons', '2', 'whereas', 'horizontal', 'line', 'exon', 'indicates', 'deletion', 'found', 'case', '3', 'removes', 'exon', '3', 'sequence', 'pink', 'horizontal', 'bars', 'boxes', 'indicate', 'amplicons', 'used', 'qpcr', 'sequencing', 'one', 'alternative', 'exon', 'amplicon', 'indicated', 'space', 'constraints', 'mutation', '201dupt', 'case', 'results', 'immediate', 'stop', 'codon', '5551g', '5551g', 'splice', 'mutations', 'cases', '2', 'predicted', 'deleterious', 'alter', 'conserved', 'splice', 'donor', 'acceptor', 'site', 'intron', '4', 'respectively', 'full', 'size', 'image', 'kb', 'table', '1', 'clinical', 'features', 'star', 'syndrome', 'cases', 'table', 'clinical', 'features', 'star', 'syndrome', 'cases', 'full', 'table', 'basis', 'phenotypic', 'overlap', 'townesbrocks', 'okihiro', 'feingold', 'syndromes', 'analyzed', 'sall1', 'ref', 'sall4', 'ref', 'mycn4', 'found', 'mutations', 'genes', 'supplementary', 'methods', 'online', 'next', 'carried', 'genomewide', 'highresolution', 'oligonucleotide', 'array', 'comparative', 'genomic', 'hybridization', 'cgh', 'analysis', 'supplementary', 'methods', 'genomic', 'dna', 'severely', 'affected', 'individual', 'case', '1', 'lower', 'lid', 'coloboma', 'epilepsy', 'syringomyelia', 'identified', 'heterozygous', 'deletion', '379', '507', 'kb', 'xq28', 'removed', 'exons', 'fam58a', 'fig', '1ij', 'using', 'realtime', 'pcr', 'confirmed', 'deletion', 'child', 'excluded', 'unaffected', 'parents', 'supplementary', 'fig', '1a', 'online', 'supplementary', 'methods', 'supplementary', 'table', 'online', 'cgh', 'customized', 'oligonucleotide', 'array', 'enriched', 'probes', 'xq28', 'followed', 'breakpoint', 'cloning', 'defined', 'exact', 'deletion', 'size', '40068', 'bp', 'g152514164', '152554231del', 'chromosome', 'x', 'ncbi', 'build', '362', 'fig', '1j', 'supplementary', 'figs', '23', 'online', 'deletion', 'removes', 'coding', 'regions', 'exons', 'well', 'intron', '2774', 'bp', 'bp', 'intron', '2', '36608', 'bp', '5', 'sequence', 'including', '5', 'utr', 'entire', 'krt18p48', 'pseudogene', 'ncbi', 'gene', 'id', 'paternity', 'proven', 'using', 'routine', 'methods', 'find', 'deletions', 'overlapping', 'fam58a', 'available', 'copy', 'number', 'variation', 'cnv', 'databases', 'subsequently', 'carried', 'qpcr', 'analysis', 'three', 'affected', 'individuals', 'cases', '2', 'motherdaughter', 'pair', 'literature', 'cases', 'case', '3', 'detected', 'de', 'novo', 'heterozygous', 'deletion', '11', '103', 'kb', 'overlapping', 'exon', 'supplementary', 'fig', '1b', 'online', 'using', 'xq28targeted', 'array', 'cgh', 'breakpoint', 'cloning', 'identified', 'deletion', '4249', 'bp', 'g152504123', '152508371del', 'chromosome', 'x', 'ncbi', 'build', '362', 'fig', '1j', 'supplementary', 'figs', '23', 'removed', '1265', 'bp', 'intron', '4', 'exon', '5', 'including', '3', 'utr', '2454', 'bp', '3', 'sequence', 'found', 'heterozygous', 'fam58a', 'point', 'mutations', 'remaining', 'cases', 'fig', '1j', 'supplementary', 'fig', '2', 'supplementary', 'methods', 'supplementary', 'table', 'case', '2', 'identified', 'mutation', '5551g', 'a', 'affecting', 'splice', 'donor', 'site', 'intron', '4', 'case', '4', 'identified', 'frameshift', 'mutation', '201dupt', 'immediately', 'results', 'premature', 'stop', 'codon', 'n68xfsx1', 'cases', '6', 'detected', 'mutation', '5561g', 'a', 'alters', 'splice', 'acceptor', 'site', 'intron', '4', 'validated', 'point', 'mutations', 'deletions', 'independent', 'rounds', 'pcr', 'sequencing', 'qpcr', 'confirmed', 'paternity', 'de', 'novo', 'status', 'point', 'mutations', 'deletions', 'sporadic', 'cases', 'none', 'mutations', 'seen', 'dna', 'unaffected', 'female', 'controls', 'larger', 'deletions', 'involving', 'fam58a', 'found', 'unrelated', 'arraycgh', 'investigations', 'analyzing', 'xchromosome', 'inactivation', 'supplementary', 'methods', 'supplementary', 'fig', 'online', 'found', 'complete', 'skewing', 'x', 'inactivation', 'cases', 'almost', 'complete', 'skewing', 'case', '2', 'suggesting', 'cells', 'carrying', 'mutation', 'active', 'x', 'chromosome', 'growth', 'disadvantage', 'fetal', 'development', 'using', 'rtpcr', 'rna', 'lymphoblastoid', 'cells', 'case', 'supplementary', 'fig', 'find', 'aberrant', 'splice', 'products', 'additional', 'evidence', 'mutated', 'allele', 'inactivated', 'furthermore', 'fam58a', 'subjected', 'x', 'inactivation6', 'cases', '3', 'parental', 'origin', 'deletions', 'could', 'determined', 'result', 'lack', 'informative', 'snps', 'case', '5', 'mother', 'case', '6', 'gave', 'birth', 'two', 'boys', 'clinically', 'unaffected', 'samples', 'available', 'cannot', 'exclude', 'condition', 'lethal', 'males', 'fetal', 'losses', 'reported', 'families', 'function', 'fam58a', 'unknown', 'gene', 'consists', 'five', 'coding', 'exons', '642bp', 'coding', 'region', 'encodes', 'protein', 'amino', 'acids', 'genbank', 'lists', 'mrna', 'length', '1257', 'bp', 'reference', 'sequence', 'nm', '1522742', 'expression', 'gene', 'est', 'data', 'found', 'adult', 'tissues', 'including', 'kidney', 'colon', 'cervix', 'uterus', 'heart', 'ncbi', 'expression', 'viewer', 'unigene', 'hs496943', 'expression', 'also', 'noted', 'listed', 'tumor', 'tissues', 'well', 'embryo', 'fetus', 'genes', 'homologous', 'fam58a', 'ncbi', 'homologene', 'found', 'x', 'chromosome', 'chimpanzee', 'dog', 'zebrafish', 'similar', 'gene', 'chromosome', '23', 'however', 'mouse', 'rat', 'true', 'homologs', 'species', 'similar', 'intronless', 'genes', 'chromosomes', 'mouse', 'rat', 'likely', 'arising', 'retrotransposon', 'insertion', 'event', 'murine', 'x', 'chromosome', 'flanking', 'genes', 'atp2b3', 'dusp9', 'conserved', 'remnants', 'fam58a', 'sequence', 'detected', 'fam58a', 'contains', 'cyclinboxfold', 'domain', 'proteinbinding', 'domain', 'found', 'cyclins', 'role', 'cell', 'cycle', 'transcription', 'control', 'human', 'phenotype', 'resulting', 'cyclin', 'gene', 'mutation', 'yet', 'reported', 'homozygous', 'knockout', 'mice', 'ccnd1', 'encoding', 'cyclin', 'd1', 'viable', 'small', 'reduced', 'lifespan', 'also', 'dystrophic', 'changes', 'retina', 'likely', 'result', 'decreased', 'cell', 'proliferation', 'degeneration', 'photoreceptor', 'cells', 'embryogenesis7', '8', 'cyclin', 'd1', 'colocalizes', 'sall4', 'nucleus', 'proteins', 'cooperatively', 'mediate', 'transcriptional', 'repression9', 'phenotype', 'cases', 'overlaps', 'considerably', 'townesbrocks', 'syndrome', 'caused', 'sall1', 'mutations1', 'carried', 'coimmunoprecipitation', 'find', 'sall1', 'sall4', 'would', 'interact', 'fam58a', 'manner', 'similar', 'observed', 'sall4', 'cyclin', 'd1', 'found', 'fam58a', 'interacts', 'sall1', 'sall4', 'supplementary', 'fig', 'online', 'supporting', 'hypothesis', 'fam58a', 'sall1', 'participate', 'developmental', 'pathway', 'fam58a', 'mutations', 'lead', 'star', 'syndrome', 'growth', 'retardation', 'cases', 'table', 'retinal', 'abnormalities', 'three', 'cases', 'reminiscent', 'reduced', 'body', 'size', 'retinal', 'anomalies', 'cyclin', 'd1', 'knockout', 'mice7', '8', 'therefore', 'proliferation', 'defect', 'might', 'partly', 'responsible', 'star', 'syndrome', 'address', 'question', 'carried', 'knockdown', 'fam58a', 'mrna', 'followed', 'proliferation', 'assay', 'transfection', 'hek293', 'cells', 'three', 'different', 'fam58aspecific', 'rnai', 'oligonucleotides', 'resulted', 'significant', 'reduction', 'fam58a', 'mrna', 'expression', 'proliferation', 'transfected', 'cells', 'supplementary', 'methods', 'supplementary', 'fig', 'online', 'supporting', 'link', 'fam58a', 'cell', 'proliferation', 'found', 'lossoffunction', 'mutations', 'fam58a', 'result', 'rather', 'homogeneous', 'clinical', 'phenotype', 'additional', 'anomalies', 'case', 'likely', 'result', 'effect', '40kb', 'deletion', 'expression', 'neighboring', 'gene', 'possibly', 'atp2b3', 'dusp9', 'however', 'cannot', 'exclude', 'homogeneous', 'phenotype', 'results', 'ascertainment', 'bias', 'fam58a', 'mutations', 'including', 'missense', 'changes', 'could', 'result', 'broader', 'spectrum', 'malformations', 'genes', 'causing', 'overlapping', 'phenotypes', 'star', 'syndrome', 'townesbrocks', 'syndrome', 'seem', 'act', 'pathway', 'note', 'mycn', 'gene', 'mutated', 'feingold', 'syndrome', 'direct', 'regulator', 'cyclin', 'd2', 'refs', '1011', 'thus', 'worth', 'exploring', 'whether', 'phenotypic', 'similarities', 'feingold', 'star', 'syndrome', 'might', 'explained', 'direct', 'regulation', 'fam58a', 'mycn', 'fam58a', 'located', 'approximately', '056', 'mb', 'centromeric', 'mecp2', 'xq28', 'duplications', 'overlapping', 'mecp2', 'fam58a', 'described', 'associated', 'clinical', 'phenotype', 'females12', 'deletions', 'overlapping', 'mecp2', 'fam58a', 'observed', 'date13', 'although', 'genes', 'fam58a', 'mecp2', 'implicated', 'brain', 'development', 'fam58a', 'mecp2', 'genes', 'region', 'known', 'result', 'xlinked', 'dominant', 'phenotypes', 'thus', 'deletion', 'genes', 'allele', 'might', 'lethal', 'males', 'females'], ['Text_0'])\n"
     ]
    }
   ],
   "source": [
    "print(sentences2[0])"
   ]
  },
  {
   "cell_type": "markdown",
   "metadata": {
    "_cell_guid": "252ee9c8-c671-4a33-9345-624fea2a126e",
    "_uuid": "646272b96ef8ada2e017ca70ca3a12bba564ad3a"
   },
   "source": [
    "**Featurizing using Doc2Vec**"
   ]
  },
  {
   "cell_type": "code",
   "execution_count": 10,
   "metadata": {
    "collapsed": true
   },
   "outputs": [],
   "source": [
    "INPUT_DIM=300"
   ]
  },
  {
   "cell_type": "code",
   "execution_count": 11,
   "metadata": {
    "_cell_guid": "97f364a7-7c3c-457b-ae91-facfd774ae38",
    "_uuid": "3bf823a0f0415dfd12b11e28cc0395b8aca6dd37",
    "collapsed": true
   },
   "outputs": [],
   "source": [
    "# Create text features using Doc2Vec\n",
    "\n",
    "doc2vec_epocs=10 #TODO Change to 100\n",
    "model=None\n",
    "filename='vectors/docEmbeddings_nostop_all_10.d2v'\n",
    "if os.path.isfile(filename):\n",
    "    model = Doc2Vec.load(filename)\n",
    "else:\n",
    "    model = Doc2Vec(min_count=1, window=5, size=INPUT_DIM, sample=1e-4, negative=5, workers=8, iter=doc2vec_epocs, seed=1)\n",
    "    model.build_vocab(sentences)\n",
    "    model.train(sentences, total_examples=model.corpus_count, epochs=model.iter)\n",
    "    model.save(filename)"
   ]
  },
  {
   "cell_type": "code",
   "execution_count": 12,
   "metadata": {},
   "outputs": [
    {
     "data": {
      "text/plain": [
       "[('mutations', 0.6853571534156799),\n",
       " ('substitution', 0.6260187029838562),\n",
       " ('variant', 0.5576804280281067),\n",
       " ('mutant', 0.48260611295700073),\n",
       " ('alteration', 0.4624151885509491),\n",
       " ('transversion', 0.4485575556755066),\n",
       " ('polymorphism', 0.41885772347450256),\n",
       " ('allele', 0.4183550477027893),\n",
       " ('patient', 0.4144909381866455),\n",
       " ('mutational', 0.4105629324913025)]"
      ]
     },
     "execution_count": 12,
     "metadata": {},
     "output_type": "execute_result"
    }
   ],
   "source": [
    "model.most_similar('mutation')"
   ]
  },
  {
   "cell_type": "markdown",
   "metadata": {
    "_cell_guid": "1ad16f23-36ed-4f6a-b65c-907387723b0b",
    "_uuid": "b86f867d51c7aa75dcc0d27b73b30e8e7b0812ae"
   },
   "source": [
    "**Data Preparation**"
   ]
  },
  {
   "cell_type": "code",
   "execution_count": 13,
   "metadata": {
    "_cell_guid": "c4196cff-1441-47d3-a018-7178e86c6a00",
    "_uuid": "69fb6c2e41a6366575b1851dedb283c95387bb2f",
    "collapsed": true
   },
   "outputs": [],
   "source": [
    "train_arrays = np.zeros((train_size, INPUT_DIM))\n",
    "test_arrays = np.zeros((test_size, INPUT_DIM))\n",
    "\n",
    "for i in range(train_size):\n",
    "    train_arrays[i] = model.docvecs['Text_'+ str(i)]\n",
    "\n",
    "label_encoder = LabelEncoder()\n",
    "label_encoder.fit(train_y)\n",
    "encoded_y = np_utils.to_categorical((label_encoder.transform(train_y)))\n",
    "\n",
    "j=0\n",
    "for i in range(train_size, train_size + test_size):\n",
    "    test_arrays[j] = model.docvecs['Text_'+ str(i)]\n",
    "    j=j+1"
   ]
  },
  {
   "cell_type": "code",
   "execution_count": 38,
   "metadata": {},
   "outputs": [
    {
     "name": "stdout",
     "output_type": "stream",
     "text": [
      "[ 0.  0.  0.  1.  0.  0.  0.  0.  0.]\n"
     ]
    }
   ],
   "source": [
    "print(encoded_y[0])"
   ]
  },
  {
   "cell_type": "markdown",
   "metadata": {},
   "source": [
    "** Gene and Variation Featurizer **"
   ]
  },
  {
   "cell_type": "code",
   "execution_count": null,
   "metadata": {
    "collapsed": true
   },
   "outputs": [],
   "source": [
    "Gene_INPUT_DIM=25"
   ]
  },
  {
   "cell_type": "code",
   "execution_count": null,
   "metadata": {
    "collapsed": true
   },
   "outputs": [],
   "source": [
    "from sklearn.decomposition import TruncatedSVD\n",
    "\n",
    "svd = TruncatedSVD(n_components=25, n_iter=Gene_INPUT_DIM, random_state=12)\n",
    "\n",
    "one_hot_gene = pd.get_dummies(all_data['Gene'])\n",
    "truncated_one_hot_gene = svd.fit_transform(one_hot_gene.values)\n",
    "\n",
    "one_hot_variation = pd.get_dummies(all_data['Variation'])\n",
    "truncated_one_hot_variation = svd.fit_transform(one_hot_variation.values)"
   ]
  },
  {
   "cell_type": "markdown",
   "metadata": {},
   "source": [
    "** Merge Input features **"
   ]
  },
  {
   "cell_type": "code",
   "execution_count": null,
   "metadata": {
    "collapsed": true
   },
   "outputs": [],
   "source": [
    "train_set=np.hstack((truncated_one_hot_gene[:train_size],truncated_one_hot_variation[:train_size], train_arrays))\n",
    "test_set=np.hstack((truncated_one_hot_gene[train_size:],truncated_one_hot_variation[train_size:], test_arrays))\n",
    "print(train_set[0][:50])"
   ]
  },
  {
   "cell_type": "markdown",
   "metadata": {
    "_cell_guid": "3a34d2e4-fd74-4999-b878-efcf8ce488ef",
    "_uuid": "24e3d1c83e81c163c0369dd9e614945446843d24"
   },
   "source": [
    "**Training Model**"
   ]
  },
  {
   "cell_type": "code",
   "execution_count": 14,
   "metadata": {
    "collapsed": true
   },
   "outputs": [],
   "source": [
    "# define initial model\n",
    "def initial_model():\n",
    "    model = Sequential()\n",
    "    model.add(Dense(512, input_dim=INPUT_DIM, activation='relu'))\n",
    "    model.add(Dropout(0.2))\n",
    "    model.add(Dense(80, activation='relu'))\n",
    "    model.add(Dense(9, activation=\"softmax\"))\n",
    "    model.compile(loss='categorical_crossentropy', optimizer='adam', metrics=['accuracy'])\n",
    "    return model"
   ]
  },
  {
   "cell_type": "code",
   "execution_count": 15,
   "metadata": {},
   "outputs": [
    {
     "name": "stdout",
     "output_type": "stream",
     "text": [
      "_________________________________________________________________\n",
      "Layer (type)                 Output Shape              Param #   \n",
      "=================================================================\n",
      "dense_1 (Dense)              (None, 512)               154112    \n",
      "_________________________________________________________________\n",
      "dropout_1 (Dropout)          (None, 512)               0         \n",
      "_________________________________________________________________\n",
      "dense_2 (Dense)              (None, 80)                41040     \n",
      "_________________________________________________________________\n",
      "dense_3 (Dense)              (None, 9)                 729       \n",
      "=================================================================\n",
      "Total params: 195,881\n",
      "Trainable params: 195,881\n",
      "Non-trainable params: 0\n",
      "_________________________________________________________________\n"
     ]
    }
   ],
   "source": [
    "model = initial_model()\n",
    "model.summary()"
   ]
  },
  {
   "cell_type": "code",
   "execution_count": 30,
   "metadata": {},
   "outputs": [],
   "source": [
    "tb = TensorBoard(log_dir='./logs/run2', histogram_freq=1, batch_size=64, write_graph=True, write_grads=True, write_images=True, embeddings_freq=0, embeddings_layer_names=None, embeddings_metadata=None)"
   ]
  },
  {
   "cell_type": "code",
   "execution_count": 31,
   "metadata": {},
   "outputs": [
    {
     "name": "stdout",
     "output_type": "stream",
     "text": [
      "Train on 3154 samples, validate on 167 samples\n",
      "Epoch 1/10\n",
      "3154/3154 [==============================] - 1s - loss: 1.4847 - acc: 0.4686 - val_loss: 1.5648 - val_acc: 0.3593\n",
      "Epoch 2/10\n",
      "3154/3154 [==============================] - 0s - loss: 1.0429 - acc: 0.6338 - val_loss: 1.5472 - val_acc: 0.4132\n",
      "Epoch 3/10\n",
      "3154/3154 [==============================] - 0s - loss: 0.8812 - acc: 0.6864 - val_loss: 1.5969 - val_acc: 0.4731\n",
      "Epoch 4/10\n",
      "3154/3154 [==============================] - 0s - loss: 0.7472 - acc: 0.7353 - val_loss: 1.7586 - val_acc: 0.4611\n",
      "Epoch 5/10\n",
      "3154/3154 [==============================] - 0s - loss: 0.6562 - acc: 0.7609 - val_loss: 1.8426 - val_acc: 0.4012\n",
      "Epoch 6/10\n",
      "3154/3154 [==============================] - 0s - loss: 0.5800 - acc: 0.7955 - val_loss: 1.9560 - val_acc: 0.4491\n",
      "Epoch 7/10\n",
      "3154/3154 [==============================] - 0s - loss: 0.5389 - acc: 0.7974 - val_loss: 1.9681 - val_acc: 0.4731\n",
      "Epoch 8/10\n",
      "3154/3154 [==============================] - 0s - loss: 0.4763 - acc: 0.8301 - val_loss: 2.1031 - val_acc: 0.4910\n",
      "Epoch 9/10\n",
      "3154/3154 [==============================] - 0s - loss: 0.4465 - acc: 0.8326 - val_loss: 2.2111 - val_acc: 0.4491\n",
      "Epoch 10/10\n",
      "3154/3154 [==============================] - 0s - loss: 0.4175 - acc: 0.8440 - val_loss: 2.3118 - val_acc: 0.4012\n"
     ]
    },
    {
     "data": {
      "text/plain": [
       "<keras.callbacks.History at 0x2011d95f8>"
      ]
     },
     "execution_count": 31,
     "metadata": {},
     "output_type": "execute_result"
    }
   ],
   "source": [
    "estimator = KerasClassifier(build_fn=initial_model, epochs=10, batch_size=64)\n",
    "estimator.fit(train_arrays, encoded_y, validation_split=0.05, callbacks=[tb])"
   ]
  },
  {
   "cell_type": "code",
   "execution_count": 33,
   "metadata": {},
   "outputs": [
    {
     "name": "stdout",
     "output_type": "stream",
     "text": [
      "5376/5668 [===========================>..] - ETA: 0s"
     ]
    }
   ],
   "source": [
    "y_pred = estimator.predict_proba(test_arrays)"
   ]
  },
  {
   "cell_type": "code",
   "execution_count": 34,
   "metadata": {},
   "outputs": [
    {
     "name": "stdout",
     "output_type": "stream",
     "text": [
      "5440/5668 [===========================>..] - ETA: 0s"
     ]
    },
    {
     "data": {
      "text/plain": [
       "0.18260409317558385"
      ]
     },
     "execution_count": 34,
     "metadata": {},
     "output_type": "execute_result"
    }
   ],
   "source": [
    "estimator.score(test_arrays, y_pred)"
   ]
  },
  {
   "cell_type": "markdown",
   "metadata": {},
   "source": [
    "** Advanced Model **"
   ]
  },
  {
   "cell_type": "code",
   "execution_count": 68,
   "metadata": {
    "_cell_guid": "64f5840f-9d8e-40d6-9556-6f0ea9852fdb",
    "_uuid": "6114913714138eec035b68e7ca2795f78c3b10dc",
    "collapsed": true
   },
   "outputs": [],
   "source": [
    "# define model\n",
    "def baseline_model():\n",
    "    model = Sequential()\n",
    "    model.add(Dense(512, input_dim=INPUT_DIM, activation='relu'))\n",
    "    model.add(Dropout(0.2))\n",
    "    model.add(Dense(512, activation='relu'))\n",
    "    model.add(Dropout(0.2))\n",
    "    model.add(Dense(512, activation='relu'))\n",
    "    model.add(Dropout(0.2))\n",
    "    model.add(Dense(512, activation='relu'))\n",
    "    model.add(Dense(80, activation='relu'))\n",
    "    model.add(Dense(9, activation=\"softmax\"))\n",
    "    model.compile(loss='categorical_crossentropy', optimizer='adam', metrics=['accuracy'])\n",
    "    return model"
   ]
  },
  {
   "cell_type": "code",
   "execution_count": 69,
   "metadata": {},
   "outputs": [
    {
     "name": "stdout",
     "output_type": "stream",
     "text": [
      "_________________________________________________________________\n",
      "Layer (type)                 Output Shape              Param #   \n",
      "=================================================================\n",
      "dense_34 (Dense)             (None, 512)               154112    \n",
      "_________________________________________________________________\n",
      "dropout_15 (Dropout)         (None, 512)               0         \n",
      "_________________________________________________________________\n",
      "dense_35 (Dense)             (None, 512)               262656    \n",
      "_________________________________________________________________\n",
      "dropout_16 (Dropout)         (None, 512)               0         \n",
      "_________________________________________________________________\n",
      "dense_36 (Dense)             (None, 512)               262656    \n",
      "_________________________________________________________________\n",
      "dropout_17 (Dropout)         (None, 512)               0         \n",
      "_________________________________________________________________\n",
      "dense_37 (Dense)             (None, 512)               262656    \n",
      "_________________________________________________________________\n",
      "dense_38 (Dense)             (None, 80)                41040     \n",
      "_________________________________________________________________\n",
      "dense_39 (Dense)             (None, 9)                 729       \n",
      "=================================================================\n",
      "Total params: 983,849\n",
      "Trainable params: 983,849\n",
      "Non-trainable params: 0\n",
      "_________________________________________________________________\n"
     ]
    }
   ],
   "source": [
    "model2 = baseline_model()\n",
    "model2.summary()"
   ]
  },
  {
   "cell_type": "code",
   "execution_count": 70,
   "metadata": {},
   "outputs": [
    {
     "name": "stdout",
     "output_type": "stream",
     "text": [
      "Train on 3154 samples, validate on 167 samples\n",
      "Epoch 1/10\n",
      "3154/3154 [==============================] - 3s - loss: 1.5674 - acc: 0.4230 - val_loss: 1.6184 - val_acc: 0.4551\n",
      "Epoch 2/10\n",
      "3154/3154 [==============================] - 1s - loss: 1.1729 - acc: 0.5780 - val_loss: 1.7050 - val_acc: 0.4970\n",
      "Epoch 3/10\n",
      "3154/3154 [==============================] - 1s - loss: 1.0056 - acc: 0.6297 - val_loss: 1.7387 - val_acc: 0.3174\n",
      "Epoch 4/10\n",
      "3154/3154 [==============================] - 1s - loss: 0.8447 - acc: 0.6937 - val_loss: 1.8244 - val_acc: 0.3413\n",
      "Epoch 5/10\n",
      "3154/3154 [==============================] - 1s - loss: 0.7305 - acc: 0.7346 - val_loss: 2.3056 - val_acc: 0.4072\n",
      "Epoch 6/10\n",
      "3154/3154 [==============================] - 1s - loss: 0.6343 - acc: 0.7619 - val_loss: 2.2701 - val_acc: 0.3533\n",
      "Epoch 7/10\n",
      "3154/3154 [==============================] - 1s - loss: 0.6022 - acc: 0.7828 - val_loss: 2.0332 - val_acc: 0.4551\n",
      "Epoch 8/10\n",
      "3154/3154 [==============================] - 1s - loss: 0.5436 - acc: 0.7999 - val_loss: 2.4979 - val_acc: 0.4132\n",
      "Epoch 9/10\n",
      "3154/3154 [==============================] - 1s - loss: 0.5015 - acc: 0.8126 - val_loss: 2.9381 - val_acc: 0.4132\n",
      "Epoch 10/10\n",
      "3154/3154 [==============================] - 1s - loss: 0.4703 - acc: 0.8148 - val_loss: 2.7140 - val_acc: 0.3952\n"
     ]
    },
    {
     "data": {
      "text/plain": [
       "<keras.callbacks.History at 0x2875fe0f0>"
      ]
     },
     "execution_count": 70,
     "metadata": {},
     "output_type": "execute_result"
    }
   ],
   "source": [
    "estimator2 = KerasClassifier(build_fn=baseline_model, epochs=10, batch_size=64)\n",
    "estimator2.fit(train_arrays, encoded_y, validation_split=0.05)"
   ]
  },
  {
   "cell_type": "code",
   "execution_count": 71,
   "metadata": {},
   "outputs": [
    {
     "name": "stdout",
     "output_type": "stream",
     "text": [
      "5632/5668 [============================>.] - ETA: 0s"
     ]
    }
   ],
   "source": [
    "y_pred = estimator2.predict_proba(test_arrays)"
   ]
  },
  {
   "cell_type": "code",
   "execution_count": 72,
   "metadata": {},
   "outputs": [
    {
     "name": "stdout",
     "output_type": "stream",
     "text": [
      "5376/5668 [===========================>..] - ETA: 0s"
     ]
    },
    {
     "data": {
      "text/plain": [
       "0.19936485535970605"
      ]
     },
     "execution_count": 72,
     "metadata": {},
     "output_type": "execute_result"
    }
   ],
   "source": [
    "estimator2.score(test_arrays, y_pred)"
   ]
  },
  {
   "cell_type": "markdown",
   "metadata": {
    "_cell_guid": "e10f416c-2dea-4688-9321-d35c98f1cc87",
    "_uuid": "a62f1291fe43ff51a635e914aa30824d5fc611ea"
   },
   "source": [
    "**Create Submission File**"
   ]
  },
  {
   "cell_type": "code",
   "execution_count": 73,
   "metadata": {
    "_cell_guid": "7a292a76-0590-4e90-a827-fcbd69999602",
    "_uuid": "0bd227084eebd66570d260b981b03ae4d31bb10b",
    "collapsed": true
   },
   "outputs": [],
   "source": [
    "\"\"\" Submission \"\"\"\n",
    "submission = pd.DataFrame(y_pred)\n",
    "submission['id'] = test_index\n",
    "submission.columns = ['class1', 'class2', 'class3', 'class4', 'class5', 'class6', 'class7', 'class8', 'class9', 'id']\n",
    "submission.to_csv(\"submissions/initial_nostop.csv\",index=False)"
   ]
  },
  {
   "cell_type": "code",
   "execution_count": null,
   "metadata": {
    "collapsed": true
   },
   "outputs": [],
   "source": [
    "estimator.score(test_set, y_pred)"
   ]
  },
  {
   "cell_type": "markdown",
   "metadata": {},
   "source": [
    "** Naive Predictor **"
   ]
  },
  {
   "cell_type": "code",
   "execution_count": null,
   "metadata": {
    "collapsed": true
   },
   "outputs": [],
   "source": [
    "percent = train['Class'].value_counts() / float(len(train)) * 100\n",
    "\n",
    "tab = pd.DataFrame({\n",
    "    \"Class\": percent.index,\n",
    "    \"Percent of Total\": round(percent, 2)})\n",
    "\n",
    "tab.sort_values(by=\"Class\")\n",
    "tab"
   ]
  },
  {
   "cell_type": "code",
   "execution_count": null,
   "metadata": {
    "collapsed": true
   },
   "outputs": [],
   "source": [
    "y_naive = []\n",
    "\n",
    "for i in range(len(test_set)):\n",
    "    y_naive.append(percent/100)\n",
    "    \n",
    "y_naive[1]"
   ]
  },
  {
   "cell_type": "code",
   "execution_count": null,
   "metadata": {
    "collapsed": true
   },
   "outputs": [],
   "source": [
    "\"\"\" Naive Submission \"\"\"\n",
    "submission = pd.DataFrame(y_naive)\n",
    "submission['id'] = test_index\n",
    "submission.columns = ['class7', 'class4', 'class1', 'class2', 'class6', 'class5', 'class3', 'class9', 'class8', 'id']\n",
    "submission.to_csv(\"naive_submission.csv\",index=False)"
   ]
  },
  {
   "cell_type": "code",
   "execution_count": null,
   "metadata": {
    "collapsed": true
   },
   "outputs": [],
   "source": []
  }
 ],
 "metadata": {
  "kernelspec": {
   "display_name": "Python 3",
   "language": "python",
   "name": "python3"
  },
  "language_info": {
   "codemirror_mode": {
    "name": "ipython",
    "version": 3
   },
   "file_extension": ".py",
   "mimetype": "text/x-python",
   "name": "python",
   "nbconvert_exporter": "python",
   "pygments_lexer": "ipython3",
   "version": "3.5.3"
  }
 },
 "nbformat": 4,
 "nbformat_minor": 1
}
